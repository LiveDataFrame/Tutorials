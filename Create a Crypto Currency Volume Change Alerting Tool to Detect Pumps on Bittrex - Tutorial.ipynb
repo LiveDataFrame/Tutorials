{
 "cells": [
  {
   "cell_type": "markdown",
   "metadata": {},
   "source": [
    "# Create a Crypto Currency Volume Change  Alerting Tool to Detect Pumps on Bittrex\n",
    "\n",
    "### Purpose of this tutorial\n",
    "To create a customizable alerting tool to monitor volume changes accross all bittrex coins using LiveDataFrame\n",
    "    \n",
    "### What you will be creating:\n",
    "An augmented trading tool that monitors volume changes accross an entire cryptocurrency exchange (bittrex) that:\n",
    "  - Monitors all the coins in realtime\n",
    "  - Has customizable alert criteria for volume change % and time (e.g \"Alert when a coin's volume changes 10% in 10 minutes\")\n",
    "  - Plays a sound when customizable alert criteria is fulfilled\n",
    "  - Displays a list of coins fulfilling the alert/volume criteria and a link to their chart.\n",
    "  - Updates this list, checks volume changes of coins, and alerts and prints the list automatically every 7 seconds\n",
    "    \n",
    "### Prerequistes:\n",
    "- Python3\n",
    "- `livedataframe` package: `pip3 install livedataframe`\n",
    "- Public and secret keys from [LiveDataFrame](https://app.livedataframe.com/users/new) (sign up is free)\n",
    "- A can-do attitude\n",
    "\n",
    "    \n",
    "    \n",
    "    \n"
   ]
  },
  {
   "cell_type": "markdown",
   "metadata": {},
   "source": [
    "## Import Required Packages\n",
    "\n",
    "- If you have not installed livedataframe please do so now: `pip3 install livedataframe`"
   ]
  },
  {
   "cell_type": "code",
   "execution_count": null,
   "metadata": {},
   "outputs": [],
   "source": [
    "from livedataframe import LiveExchange, ExchangeInfo # The core packages used by this tutorial\n",
    "import pandas as pd # import pandas for creating our new tool\n",
    "from IPython.display import Audio, display, clear_output # for playing our alert sound and our monitoring tool\n",
    "import time # for sleeping our tools loop"
   ]
  },
  {
   "cell_type": "markdown",
   "metadata": {},
   "source": [
    "## Initialize the LiveExchange class for the Bittrex Exchange"
   ]
  },
  {
   "cell_type": "markdown",
   "metadata": {},
   "source": [
    "The first thing we are going to do is get a list of active symbols on the bittrex exchange using the helper class `ExchangeInfo`"
   ]
  },
  {
   "cell_type": "code",
   "execution_count": null,
   "metadata": {},
   "outputs": [],
   "source": [
    "bittrex_symbols = ExchangeInfo.list_symbols_for('bittrex')"
   ]
  },
  {
   "cell_type": "markdown",
   "metadata": {},
   "source": [
    "Once we have our symbols, it is time to setup our live view of the Bittrex exchange using the class `LiveExchange`. Replace `<YOUR_PUBLIC_KEY_HERE>` and `<YOUR_SECRET_KEY_HERE>` with your actual public and secret livedataframe keys (as strings). \n",
    "\n",
    "These should have been emailed to you when you [signed up](https://app.livedataframe.com/users/new)"
   ]
  },
  {
   "cell_type": "code",
   "execution_count": null,
   "metadata": {},
   "outputs": [],
   "source": [
    "live_bittrex = LiveExchange(\n",
    "    public_key = \"<YOUR_PUBLIC_KEY_HERE>\",\n",
    "    secret_key = \"<YOUR_SECRET_KEY_HERE>\",\n",
    "    exchange = 'bittrex',\n",
    "    symbols = bittrex_symbols, \n",
    "    lookback_period = '4h'\n",
    ")"
   ]
  },
  {
   "cell_type": "markdown",
   "metadata": {},
   "source": [
    "In the code snippet above we have initialized the `LiveExchange` class by telling it to 'watch' all symbols on the `Bittrex` exchange. The lookback_period of `4h` tells `LiveExchange` to pull the last 4 hours of historical data for each coin."
   ]
  },
  {
   "cell_type": "markdown",
   "metadata": {},
   "source": [
    "## Start the LiveExchange\n",
    "\n",
    "After we have initialized the live exchange as `live_bittrex`, we must start it by calling `.start()` on the instance. \n",
    "\n",
    "Calling `.start()` loads the historical data, subscribes to websockets for each symbol, and then appends each new tick into its own dataframe giving you a live dataframe with a 4 hour window of data. Let's start the `LiveExchange` now"
   ]
  },
  {
   "cell_type": "code",
   "execution_count": null,
   "metadata": {},
   "outputs": [],
   "source": [
    "live_bittrex.start()"
   ]
  },
  {
   "cell_type": "markdown",
   "metadata": {},
   "source": [
    "When you first call `.start()` it can take anywhere from 10 seconds - 3 minutes (depending on your internet speed) to load the initial historical data. Once complete, you will have access to a dictionary of live DataFrames for every symbol traded on bittrex. \n",
    "\n",
    "To access one of these live dataframes use the `.symbols` attribute on the `live_bittrex` instance. For example, to access the live df for `BTC-ETH` we would specify `live_bittrex.symbols['BTC-ETH']`. This returns a dataframe that updates every 5 seconds. To see an update, wait 5 seconds and call it again.\n",
    "\n",
    "Let's go ahead and access the livedataframe for the `BTC-ETH` symbol"
   ]
  },
  {
   "cell_type": "markdown",
   "metadata": {},
   "source": [
    "## Access Your first Live DataFrame"
   ]
  },
  {
   "cell_type": "code",
   "execution_count": null,
   "metadata": {},
   "outputs": [],
   "source": [
    "live_bittrex.symbols['BTC-ETH'].tail()"
   ]
  },
  {
   "cell_type": "markdown",
   "metadata": {},
   "source": [
    "## Create a Function for Building the Volume Change Monitor\n",
    "\n",
    "Let's actually start creating our augmented trading tool for monitoring volume changes. This function will return a DataFrame where the indexes are symbol names, and the volume change over the specified interval will be the column.\n",
    "\n",
    "Let's go ahead and write a function do create this view. This function will take the `LiveExchange` instance (`live_bittrex` in this case) and the specified time interval as inputs. "
   ]
  },
  {
   "cell_type": "code",
   "execution_count": null,
   "metadata": {},
   "outputs": [],
   "source": [
    "def create_volume_monitor_dataframe(live_exchange, time_interval):\n",
    "    \n",
    "    output = {} # instantiate dictionary to hold our volume indicators\n",
    "    \n",
    "    count = 0\n",
    "    \n",
    "    # loop through every symbol and its corresponding LiveDataFrame in the live_exchange instance\n",
    "    for symbol, live_dataframe in live_exchange.symbols.items():\n",
    "        \n",
    "        # truncate data to specified time interval     \n",
    "        live_dataframe = live_dataframe.last(time_interval)  \n",
    "        \n",
    "        # total volume traded of symbol at the beginning of your specified time_interval \n",
    "        # E.g: if time_interval was '10m' this would be the volume traded 10 minutes ago\n",
    "        beginning_volume = live_dataframe['Volume'].iloc[0] \n",
    "        \n",
    "        # total current volume traded of the symbol\n",
    "        current_volume = live_dataframe['Volume'].iloc[-1] \n",
    "        \n",
    "        # calculate percent change of volume\n",
    "        percent_change = ((current_volume - beginning_volume) / beginning_volume) * 100\n",
    "        \n",
    "        # store percent change\n",
    "        output[symbol] = percent_change \n",
    "        \n",
    "    # create volume monitor dataframe with indexes as symbols and column values as volume percent changes\n",
    "    volume_monitor_df = pd.DataFrame.from_dict(output, orient = 'index') \n",
    "    \n",
    "    # add column name to dataframe as the specifed interval\n",
    "    volume_monitor_df.columns = [time_interval + \" vol % chg\"] \n",
    "    \n",
    "    # return the volume monitor dataframe\n",
    "    return volume_monitor_df "
   ]
  },
  {
   "cell_type": "markdown",
   "metadata": {},
   "source": [
    "## Run Function and Create Volume Monitor DataFrame\n",
    "Now that we have created a function that builds a new dataframe that adds a \"Vol % Change\" column for our specified interval accross all bittrex assets, let's see the result. Let's take a look at the volume change for each asset over the last 1 hour and sort our dataframe so the coins with the highest volume changes are at the top"
   ]
  },
  {
   "cell_type": "code",
   "execution_count": null,
   "metadata": {},
   "outputs": [],
   "source": [
    "# look at the volume change over 1 hour\n",
    "volume_change_period = '1h'\n",
    "\n",
    "# Create a volume monitor DataFrame\n",
    "volume_monitor_df = create_volume_monitor_dataframe(\n",
    "    live_bittrex, \n",
    "    volume_change_period\n",
    ")\n",
    "\n",
    "# Sort by largest change in volume\n",
    "volume_monitor_df.sort_values(by = volume_change_period + \" vol % chg\", ascending = False)"
   ]
  },
  {
   "cell_type": "markdown",
   "metadata": {},
   "source": [
    "As we can see, we have just created a dataframe that shows us the percent changes over the last 1 hour for each asset and ranks them by greatest volume change -- pretty cool huh? Now, let's go ahead and implement the volume threshold."
   ]
  },
  {
   "cell_type": "markdown",
   "metadata": {},
   "source": [
    "## Add a Volume Threshold Filter\n",
    "Currently, our tool lists the change in volume for all of the coins on bittrex for a specified time period. There are a lot of coins on bittrex, 291 at the time of writing, so we better filter this list down. Let's make a function that will take our `volume_monitor_df` and a `volume_threshold` as parameters and then filter our dataframe down to symbols whose volume changes are greater than this threshold."
   ]
  },
  {
   "cell_type": "code",
   "execution_count": null,
   "metadata": {},
   "outputs": [],
   "source": [
    "def filter_volume_monitor_df_by_threshold(volume_monitor_df, volume_threshold):\n",
    "    \n",
    "    # select the rows from volume monitor dataframe where the change in volume is greater than threshold\n",
    "    symbols_above_threshold = volume_monitor_df[volume_monitor_df > volume_threshold].dropna()  \n",
    "\n",
    "    return symbols_above_threshold"
   ]
  },
  {
   "cell_type": "markdown",
   "metadata": {},
   "source": [
    "## Use the Volume Threshold Filter\n",
    "Let's go ahead and use this filter function now and filter all symbols that have had a volume change of at LEAST 20% in the last 1 hour."
   ]
  },
  {
   "cell_type": "code",
   "execution_count": null,
   "metadata": {},
   "outputs": [],
   "source": [
    "volume_monitor_df = create_volume_monitor_dataframe(live_bittrex, '1h')\n",
    "\n",
    "filter_volume_monitor_df_by_threshold(volume_monitor_df, 20)"
   ]
  },
  {
   "cell_type": "markdown",
   "metadata": {},
   "source": [
    "# Monitor Changes in Volume and get Realtime Alerts!\n",
    "At this point we could keep running these two functions together over and over again and record the changes. This would allow us to 'monitor' the changes, but it wouldn't exactly be automated. \n",
    "\n",
    "Let's put these two functions in a loop that will check our changes in volume every 7 seconds and list the coins that are greater than our threshold over the specified interval. \n",
    "\n",
    "As a bonus, we will also add a clickable html link that will take you straight to the chart page of that asset on bittrex. For more fun, let's also add the ability to play a cash register sound if our tool discovers volume changes that meet our criteria. We can enable this sound by passing `alert_with_sound = True` into our function.\n"
   ]
  },
  {
   "cell_type": "markdown",
   "metadata": {},
   "source": [
    "### Create The Function"
   ]
  },
  {
   "cell_type": "code",
   "execution_count": null,
   "metadata": {},
   "outputs": [],
   "source": [
    "def monitor_volume_changes_and_alert_when_threshold_reached(live_exchange, volume_threshold, time_interval, alert_with_sound = False):\n",
    "   \n",
    "    while True:\n",
    "        # you've seen these functions before\n",
    "        volume_monitor_df = create_volume_monitor_dataframe(live_exchange, time_interval)\n",
    "        coins_above_threshold = filter_volume_monitor_df_by_threshold(volume_monitor_df, volume_threshold)\n",
    "        \n",
    "        # check to see if there are any coins meeting our criteria\n",
    "        if len(coins_above_threshold) > 0: \n",
    "            \n",
    "            # play sound if alert_with_sound kw param is passed in\n",
    "            if alert_with_sound: \n",
    "                \n",
    "                # play cash register sound\n",
    "                display(Audio(\"http://thecyberbuddy.com/sounds/CashRegister1.wav\", autoplay = True)) \n",
    "            \n",
    "            #  format the % change ouput\n",
    "            coins_above_threshold = coins_above_threshold.applymap(\"{0:.2f}%\".format) \n",
    "            \n",
    "            # create link column with name of symbol in it\n",
    "            coins_above_threshold['link'] = coins_above_threshold.index.values \n",
    "            \n",
    "            # create a function to format our link so it is clickable\n",
    "            def make_clickable(symbol):\n",
    "                url = 'https://bittrex.com/Market/Index?MarketName='+symbol\n",
    "                return '<a target=\"_blank\" href=\"{}\">{}</a>'.format(url, symbol)\n",
    "            \n",
    "            # clear jupyter's output - wait until we give it something new to display\n",
    "            clear_output(wait = True) \n",
    "            # display dataframe with formatted link\n",
    "            display(coins_above_threshold.style.format(make_clickable, subset=['link'])) \n",
    "\n",
    "        else:\n",
    "            print('No coins found with pct_volume_change > %s%% in the last %s' % (volume_threshold, time_interval))\n",
    "        \n",
    "        # wait 7 seconds before checking the volumes again\n",
    "        time.sleep(7)\n",
    "\n"
   ]
  },
  {
   "cell_type": "markdown",
   "metadata": {},
   "source": [
    "### Run The Function\n",
    "Now that we have created our master function that will alert us to changes in volume that satistfy our criteria. Lets implement it in a real-world scenario: finding coins that are being pumped!\n",
    "\n",
    "Let's set our `time_interval` to `1T` and our `volume_threshold` to `1` (a change of one percent). When we run this function we will be alerted if a coin has seen a significant increase in volume in the last 20 seconds. You may want to specify `alert_with_sound = False` after running it a few times to silence the noise. If you do not see any coins, try lowering your volume threshold or increasing your time interval. \n",
    "\n",
    "Happy Hunting! :)"
   ]
  },
  {
   "cell_type": "code",
   "execution_count": null,
   "metadata": {},
   "outputs": [],
   "source": [
    "monitor_volume_changes_and_alert_when_threshold_reached(\n",
    "    live_bittrex, \n",
    "    volume_threshold = 1, \n",
    "    time_interval = '1T', \n",
    "    alert_with_sound = False\n",
    ")"
   ]
  },
  {
   "cell_type": "markdown",
   "metadata": {},
   "source": [
    "# Next Steps\n",
    "- Try monitoring multiple time intervals at the same time and come up with an algorithm for alerting based on these changes:\n",
    "    - e.g \"alert when 10m interval is > 5% AND 1hr interval is >20%\"\n",
    "- Place orders instead of alerting\n",
    "- Turn the display into a heatmap or better visual output\n",
    "- Find correlations in the volume changes of different assets\n",
    "- Conditionally style the output dataframe utilizing colors so you can visually see big/sudden changes\n",
    "- Use jupyter/ipython widgets to create a GUI for using this tool (instead of typing in parameters)\n",
    "- Be sure to check out https://github.com/LiveDataFrame/Tutorials for more tutorials utilizing live dataframe"
   ]
  },
  {
   "cell_type": "markdown",
   "metadata": {},
   "source": [
    "_The above references an opinion and is for information purposes only.  It is not intended to be investment advice.  Seek a duly licensed professional for investment advice._"
   ]
  }
 ],
 "metadata": {
  "kernelspec": {
   "display_name": "Python 3",
   "language": "python",
   "name": "python3"
  },
  "language_info": {
   "codemirror_mode": {
    "name": "ipython",
    "version": 3
   },
   "file_extension": ".py",
   "mimetype": "text/x-python",
   "name": "python",
   "nbconvert_exporter": "python",
   "pygments_lexer": "ipython3",
   "version": "3.6.3"
  }
 },
 "nbformat": 4,
 "nbformat_minor": 2
}
