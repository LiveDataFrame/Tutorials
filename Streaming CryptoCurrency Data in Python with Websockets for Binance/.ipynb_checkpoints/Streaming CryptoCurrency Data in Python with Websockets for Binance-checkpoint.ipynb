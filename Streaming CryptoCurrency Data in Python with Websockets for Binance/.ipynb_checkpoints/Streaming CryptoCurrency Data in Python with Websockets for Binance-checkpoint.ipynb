{
 "cells": [
  {
   "cell_type": "markdown",
   "metadata": {},
   "source": [
    "## So you want to stream CryptoCurrency data?\n",
    "Most exchanges provide a public websocket service that sends real-time market data to you. You can use this free service to automate trading or perform quick calculations that are not easy to perform on the exchange's charts. This data arrives in massive amounts, sometimes making real-time processing of the data difficult.\n",
    "\n",
    "In this tutorial, I will show you how to subscribe to a websocket on Binance, and then we will do some cool things with the stream. \n",
    "\n",
    "**What we will accomplish:**\n",
    "1. Sign up for Binance and get your API key\n",
    "2. Set up a websocket connection to Binance\n",
    "3. Process the data into a useful form\n",
    "4. Perform some calculations on realtime data\n",
    "5. Look at a better way of accomplishing the same thing"
   ]
  },
  {
   "cell_type": "markdown",
   "metadata": {},
   "source": [
    "### Sign up for Binance & Get API Keys\n",
    "\n",
    "The first step is to get yourself [signed up on binance](https://www.binance.com/register.html?ref=16036057).\n",
    "\n",
    "<img src=\"signup-binance.png\" width=\"500\">\n",
    "\n",
    "Once you have signed up, visit your account and click **API Setting**\n",
    "\n",
    "<img src=\"api_step1.png\">\n",
    "\n",
    "Then, go ahead and name your API key. We'll call it binance-websocket-tutorial for now. Because that is what this is, afterall. \n",
    "\n",
    "<img src=\"api_step2.png\">\n",
    "\n",
    "After you verify, you will see a screen that has your API key and API Secret. You wont be able to see your secret key again, so make note of it. \n",
    "\n",
    "<img src=\"store_api_key.png\">"
   ]
  },
  {
   "cell_type": "markdown",
   "metadata": {},
   "source": [
    "### Set up a websocket connection to Binance\n",
    "\n",
    "Sammchardy on github has provided an amazing library to interface with Binance's api. First you're going to have to install the [python-binance wrapper](https://github.com/sammchardy/python-binance) from github like so:\n",
    "\n",
    "`pip3 install python-binance`\n",
    "\n",
    "Sockets are handled through the BinanceSocketManager. It can handle multiple socket connections. When creating a socket connection, a _callback_ function is passed which receives the messages. Lets jump right into an example. We are going to listen to the websocket for the symbol `ETHBTC`. We want to see every trades as it occurs, and we can do so using Binance's trade socket.\n",
    "\n",
    "#### Use the following code sample"
   ]
  },
  {
   "cell_type": "code",
   "execution_count": 1,
   "metadata": {},
   "outputs": [
    {
     "name": "stdout",
     "output_type": "stream",
     "text": [
      "{'e': 'trade', 'E': 1529623973721, 's': 'ETHBTC', 't': 69713886, 'p': '0.07836000', 'q': '0.03000000', 'b': 169884767, 'a': 169884759, 'T': 1529623973718, 'm': False, 'M': True}\n",
      "{'e': 'trade', 'E': 1529623973721, 's': 'ETHBTC', 't': 69713887, 'p': '0.07836100', 'q': '0.03600000', 'b': 169884767, 'a': 169884580, 'T': 1529623973718, 'm': False, 'M': True}\n",
      "{'e': 'trade', 'E': 1529623974326, 's': 'ETHBTC', 't': 69713888, 'p': '0.07830500', 'q': '0.15600000', 'b': 169884761, 'a': 169884769, 'T': 1529623974324, 'm': True, 'M': True}\n"
     ]
    }
   ],
   "source": [
    "import time\n",
    "from binance.client import Client # Import the Binance Client\n",
    "from binance.websockets import BinanceSocketManager # Import the Binance Socket Manager\n",
    "\n",
    "# Although fine for tutorial purposes, your API Keys should never be placed directly in the script like below. \n",
    "# You should use a config file (cfg or yaml) to store them and reference when needed.\n",
    "PUBLIC = '<YOUR-PUBLIC-KEY>'\n",
    "SECRET = '<YOUR-SECRET-KEY>'\n",
    "\n",
    "# Instantiate a Client \n",
    "client = Client(api_key=PUBLIC, api_secret=SECRET)\n",
    "\n",
    "# Instantiate a BinanceSocketManager, passing in the client that you instantiated\n",
    "bm = BinanceSocketManager(client)\n",
    "\n",
    "# This is our callback function. For now, it just prints messages as they come.\n",
    "def handle_message(msg):\n",
    "    print(msg)\n",
    "\n",
    "# Start trade socket with 'ETHBTC' and use handle_message to.. handle the message.\n",
    "conn_key = bm.start_trade_socket('ETHBTC', handle_message)\n",
    "# then start the socket manager\n",
    "bm.start()\n",
    "\n",
    "# let some data flow..\n",
    "time.sleep(10)\n",
    "\n",
    "# stop the socket manager\n",
    "bm.stop_socket(conn_key)"
   ]
  },
  {
   "cell_type": "markdown",
   "metadata": {},
   "source": [
    "**Congratulations - You're now streaming cryptocurrency data!**"
   ]
  },
  {
   "cell_type": "markdown",
   "metadata": {},
   "source": [
    "### Process the data into a useful form"
   ]
  },
  {
   "cell_type": "markdown",
   "metadata": {},
   "source": [
    "As you saw earlier, we were streaming real trades from Binance. But, we didn't get the most useful data printing out. That is because our handle_message function was fairly simple. Let's work on it a bit to create something more useful. \n",
    "\n",
    "The trade socket returns a dictionary as specified in [Binance's official api documentation](https://github.com/binance-exchange/binance-official-api-docs/blob/master/web-socket-streams.md) for every trade that occurs. We expect the payload to look like this: \n",
    "\n",
    "`{\n",
    "  \"e\": \"trade\",     // Event type\n",
    "  \"E\": 123456789,   // Event time\n",
    "  \"s\": \"BNBBTC\",    // Symbol\n",
    "  \"t\": 12345,       // Trade ID\n",
    "  \"p\": \"0.001\",     // Price\n",
    "  \"q\": \"100\",       // Quantity\n",
    "  \"b\": 88,          // Buyer order Id\n",
    "  \"a\": 50,          // Seller order Id\n",
    "  \"T\": 123456785,   // Trade time\n",
    "  \"m\": true,        // Is the buyer the market maker?\n",
    "  \"M\": true         // Ignore.\n",
    "}`\n",
    "\n",
    "In the event of an error, the BinanceSocketManager tries reconnecting a maximum of 5 times. If it fails to do so, we should expect a message like this:\n",
    "\n",
    "`{\n",
    "    'e': 'error',\n",
    "    'm': 'Max reconnect retries reached'\n",
    "}`"
   ]
  },
  {
   "cell_type": "markdown",
   "metadata": {},
   "source": [
    "With all of that in mind, let's create a smarter _callback function_ that will define what to do when we get a trade message. We will call it **handle_message**"
   ]
  },
  {
   "cell_type": "code",
   "execution_count": 2,
   "metadata": {},
   "outputs": [],
   "source": [
    "def handle_message(msg):\n",
    "    \n",
    "    # If the message is an error, print the error\n",
    "    if msg['e'] == 'error':    \n",
    "        print(msg['m'])\n",
    "    \n",
    "    # If the message is a trade: print time, symbol, price, and quantity\n",
    "    else:\n",
    "        print(\"Time: {} Symbol: {} Price: {} Quantity: {} \".format(msg['T'], msg['s'], msg['p'], msg['q']))"
   ]
  },
  {
   "cell_type": "markdown",
   "metadata": {},
   "source": [
    "We will again specify that we want to listen to `ETHBTC`, and we want **handle_message** to deal with the trades as they come. Lets try this again."
   ]
  },
  {
   "cell_type": "code",
   "execution_count": 4,
   "metadata": {},
   "outputs": [
    {
     "name": "stdout",
     "output_type": "stream",
     "text": [
      "Time: 1529624001948 Symbol: ETHBTC Price: 0.07829500 Quantity: 0.00100000 \n",
      "Time: 1529624001948 Symbol: ETHBTC Price: 0.07829200 Quantity: 0.03800000 \n",
      "Time: 1529624001948 Symbol: ETHBTC Price: 0.07829100 Quantity: 0.01600000 \n",
      "Time: 1529624002093 Symbol: ETHBTC Price: 0.07829100 Quantity: 0.04600000 \n",
      "Time: 1529624002363 Symbol: ETHBTC Price: 0.07834700 Quantity: 0.16700000 \n",
      "Time: 1529624004165 Symbol: ETHBTC Price: 0.07829500 Quantity: 0.10100000 \n",
      "Time: 1529624004184 Symbol: ETHBTC Price: 0.07829200 Quantity: 0.07600000 \n",
      "Time: 1529624004217 Symbol: ETHBTC Price: 0.07829200 Quantity: 1.28800000 \n",
      "Time: 1529624004292 Symbol: ETHBTC Price: 0.07829200 Quantity: 0.56800000 \n"
     ]
    }
   ],
   "source": [
    "import time\n",
    "from binance.client import Client \n",
    "from binance.websockets import BinanceSocketManager\n",
    "\n",
    "PUBLIC = '<YOUR-PUBLIC-KEY>'\n",
    "SECRET = '<YOUR-SECRET-KEY>'\n",
    "\n",
    "client = Client(api_key=PUBLIC, api_secret=SECRET)\n",
    "bm = BinanceSocketManager(client)\n",
    "\n",
    "conn_key = bm.start_trade_socket('ETHBTC', handle_message)\n",
    "\n",
    "bm.start()\n",
    "\n",
    "time.sleep(10) # let some data flow..\n",
    "\n",
    "bm.stop_socket(conn_key)"
   ]
  },
  {
   "cell_type": "markdown",
   "metadata": {},
   "source": [
    "### Perform Some Calculations on Realtime Data"
   ]
  },
  {
   "cell_type": "markdown",
   "metadata": {},
   "source": [
    "We can make our handle_message even smarter. Let's say we were interested in how many bitcoins were exchanging hands per ETHBTC trade. We need to do a few things:\n",
    "\n",
    "- Each trade has a price and a quantity. We can multiply that to get the amount of bitcoin traded.\n",
    "- Since humans don't respond with \"1529616742353 milliseconds since Thursday, 1 January 1970\" when asked for the time, we'll make the time format human readable. \n",
    "- It would also be usefull to know if the trade was a buy or a sell.\n",
    "\n",
    "#### First lets determine how many bitcoins were exchanged per ETHBTC trade. "
   ]
  },
  {
   "cell_type": "code",
   "execution_count": 1,
   "metadata": {},
   "outputs": [],
   "source": [
    "def handle_message(msg):\n",
    "    \n",
    "    if msg['e'] == 'error':    \n",
    "        print(msg['m'])\n",
    "        \n",
    "    else:\n",
    "        # Bitcoins exchanged, is equal to price times quantity\n",
    "        bitcoins_exchanged = msg['p'] * msg['q']\n",
    "        \n",
    "        # Print this amount\n",
    "        print(\"Time: {} Symbol: {} Price: {} Quantity: {} BTC Exchanged: {}\".format(msg['T'], \n",
    "                                                                                    msg['s'], \n",
    "                                                                                    msg['p'], \n",
    "                                                                                    msg['q'],\n",
    "                                                                                   bitcoins_exchanged))"
   ]
  },
  {
   "cell_type": "markdown",
   "metadata": {},
   "source": [
    "If we run this again..."
   ]
  },
  {
   "cell_type": "code",
   "execution_count": null,
   "metadata": {},
   "outputs": [],
   "source": [
    "import time\n",
    "from binance.client import Client \n",
    "from binance.websockets import BinanceSocketManager\n",
    "\n",
    "PUBLIC = '<YOUR-PUBLIC-KEY>'\n",
    "SECRET = '<YOUR-SECRET-KEY>'\n",
    "\n",
    "client = Client(api_key=PUBLIC, api_secret=SECRET)\n",
    "bm = BinanceSocketManager(client)\n",
    "\n",
    "conn_key = bm.start_trade_socket('ETHBTC', handle_message)\n",
    "\n",
    "bm.start()\n",
    "\n",
    "time.sleep(10) # let some data flow..\n",
    "\n",
    "bm.stop_socket(conn_key)"
   ]
  },
  {
   "cell_type": "markdown",
   "metadata": {},
   "source": [
    "We run into the following error: `builtins.TypeError: can't multiply sequence by non-int of type 'str'`"
   ]
  },
  {
   "cell_type": "markdown",
   "metadata": {},
   "source": [
    "This is a funny error. We would expect price and quantity to come back as numbers, but for some reason they are actually coming to us from BinanceSocketManager as strings. If you look at schema of the dictionary that is returned, you can see for yourself:\n",
    "\n",
    "`\"p\": \"0.001\",     // Price`\n",
    "\n",
    "`\"q\": \"100\",       // Quantity`\n",
    "\n",
    "I don't know whose decision that was... but, it's a good thing we caught that. Let's try again by turning price and quantity into floats."
   ]
  },
  {
   "cell_type": "code",
   "execution_count": 3,
   "metadata": {},
   "outputs": [],
   "source": [
    "def handle_message(msg):\n",
    "    \n",
    "    if msg['e'] == 'error':    \n",
    "        print(msg['m'])\n",
    "        \n",
    "    else:\n",
    "        # Bitcoins exchanged - This time converting the strings to floats.\n",
    "        bitcoins_exchanged = float(msg['p']) * float(msg['q'])\n",
    "        \n",
    "        # Print this amount\n",
    "        print(\"Time: {} - Symbol: {} - Price: {} - Quantity: {} BTC Quantity: {}\".format(msg['T'], \n",
    "                                                                                    msg['s'], \n",
    "                                                                                    msg['p'], \n",
    "                                                                                    msg['q'],\n",
    "                                                                                   bitcoins_exchanged))"
   ]
  },
  {
   "cell_type": "code",
   "execution_count": 4,
   "metadata": {},
   "outputs": [
    {
     "name": "stdout",
     "output_type": "stream",
     "text": [
      "Time: 1529624811880 - Symbol: ETHBTC - Price: 0.07837300 - Quantity: 4.65200000 BTC Quantity: 0.364591196\n",
      "Time: 1529624812169 - Symbol: ETHBTC - Price: 0.07833700 - Quantity: 0.10000000 BTC Quantity: 0.0078337\n",
      "Time: 1529624814290 - Symbol: ETHBTC - Price: 0.07833700 - Quantity: 0.90100000 BTC Quantity: 0.070581637\n",
      "Time: 1529624814386 - Symbol: ETHBTC - Price: 0.07837400 - Quantity: 0.12700000 BTC Quantity: 0.009953498\n",
      "Time: 1529624814451 - Symbol: ETHBTC - Price: 0.07833700 - Quantity: 0.05000000 BTC Quantity: 0.00391685\n",
      "Time: 1529624815140 - Symbol: ETHBTC - Price: 0.07833700 - Quantity: 0.00300000 BTC Quantity: 0.000235011\n",
      "Time: 1529624815481 - Symbol: ETHBTC - Price: 0.07833700 - Quantity: 0.03000000 BTC Quantity: 0.00235011\n",
      "Time: 1529624815481 - Symbol: ETHBTC - Price: 0.07829900 - Quantity: 0.02500000 BTC Quantity: 0.0019574749999999998\n",
      "Time: 1529624818106 - Symbol: ETHBTC - Price: 0.07830400 - Quantity: 0.06300000 BTC Quantity: 0.004933152\n",
      "Time: 1529624821257 - Symbol: ETHBTC - Price: 0.07836900 - Quantity: 0.03700000 BTC Quantity: 0.0028996529999999994\n",
      "Time: 1529624821305 - Symbol: ETHBTC - Price: 0.07830600 - Quantity: 0.01500000 BTC Quantity: 0.0011745899999999999\n"
     ]
    }
   ],
   "source": [
    "import time\n",
    "from binance.client import Client \n",
    "from binance.websockets import BinanceSocketManager\n",
    "\n",
    "PUBLIC = '<YOUR-PUBLIC-KEY>'\n",
    "SECRET = '<YOUR-SECRET-KEY>'\n",
    "\n",
    "client = Client(api_key=PUBLIC, api_secret=SECRET)\n",
    "bm = BinanceSocketManager(client)\n",
    "\n",
    "conn_key = bm.start_trade_socket('ETHBTC', handle_message)\n",
    "\n",
    "bm.start()\n",
    "\n",
    "time.sleep(10) # let some data flow..\n",
    "\n",
    "bm.stop_socket(conn_key)"
   ]
  },
  {
   "cell_type": "markdown",
   "metadata": {},
   "source": [
    "#### Now, lets make that time a little bit prettier"
   ]
  },
  {
   "cell_type": "code",
   "execution_count": 5,
   "metadata": {},
   "outputs": [
    {
     "data": {
      "text/plain": [
       "'2018-06-21 14:55:49'"
      ]
     },
     "execution_count": 5,
     "metadata": {},
     "output_type": "execute_result"
    }
   ],
   "source": [
    "# Binance returns a UTC timestamp in milliseconds. \n",
    "timestamp = 1529618149064\n",
    "# Convert this timestamp into seconds by dividing by 1000\n",
    "timestamp = timestamp / 1000\n",
    "# Use the datetime library to convert this into a datetime\n",
    "from datetime import datetime\n",
    "new_time = datetime.fromtimestamp(timestamp)\n",
    "# Use strftime to make it readable\n",
    "new_time.strftime('%Y-%m-%d %H:%M:%S')"
   ]
  },
  {
   "cell_type": "markdown",
   "metadata": {},
   "source": [
    "#### Now, lets find out if this was a buy or sell event\n",
    "\n",
    "In our dictionary, we are given a boolean if the buyer is the market maker.\n",
    "\n",
    "`\"m\": true,        // Is the buyer the market maker?`\n",
    "\n",
    "As a refresher, the market maker adds liquidity to the market. If the buyer is a market maker, it means that someone has bought the asset from at his or her price. Therefore, we can classify this as a 'sell' event. "
   ]
  },
  {
   "cell_type": "markdown",
   "metadata": {},
   "source": [
    "#### All together"
   ]
  },
  {
   "cell_type": "code",
   "execution_count": 1,
   "metadata": {},
   "outputs": [
    {
     "name": "stdout",
     "output_type": "stream",
     "text": [
      "2018-06-21 16:48:20 - SELL - ETHBTC - Price: 0.07833300 - Qty: 0.01900000 BTC Qty: 0.001488327\n",
      "2018-06-21 16:48:20 - SELL - ETHBTC - Price: 0.07832600 - Qty: 0.04200000 BTC Qty: 0.0032896920000000003\n",
      "2018-06-21 16:48:23 - SELL - ETHBTC - Price: 0.07832700 - Qty: 0.06200000 BTC Qty: 0.004856274\n"
     ]
    }
   ],
   "source": [
    "from binance.client import Client\n",
    "from binance.websockets import BinanceSocketManager \n",
    "from datetime import datetime\n",
    "import time\n",
    "# Although fine for tutorial purposes, your API Keys should never be placed directly in the script like below. \n",
    "# You should use a config file (cfg or yaml) to store them and reference when needed.\n",
    "PUBLIC = '<YOUR-PUBLIC-KEY>'\n",
    "SECRET = '<YOUR-SECRET-KEY>'\n",
    "\n",
    "client = Client(api_key=PUBLIC, api_secret=SECRET)\n",
    "bm = BinanceSocketManager(client)\n",
    "\n",
    "def handle_message(msg):\n",
    "    \n",
    "    if msg['e'] == 'error':    \n",
    "        print(msg['m'])\n",
    "        \n",
    "    else:\n",
    "        # Bitcoins exchanged - This time converting the strings to floats.\n",
    "        bitcoins_exchanged = float(msg['p']) * float(msg['q'])\n",
    "        \n",
    "        # Make time pretty\n",
    "        timestamp = msg['T'] / 1000\n",
    "        timestamp = datetime.fromtimestamp(timestamp).strftime('%Y-%m-%d %H:%M:%S')\n",
    "        \n",
    "        # Buy or sell?\n",
    "        if msg['m'] == True:\n",
    "            event_side = 'SELL'\n",
    "        else:\n",
    "            event_side = 'BUY '\n",
    "        \n",
    "        # Print this amount\n",
    "        print(\"{} - {} - {} - Price: {} - Qty: {} BTC Qty: {}\".format(timestamp,\n",
    "                                                                       event_side,\n",
    "                                                                       msg['s'],\n",
    "                                                                       msg['p'],\n",
    "                                                                       msg['q'],\n",
    "                                                                       bitcoins_exchanged))\n",
    "\n",
    "conn_key = bm.start_trade_socket('ETHBTC', handle_message)\n",
    "\n",
    "bm.start()\n",
    "\n",
    "time.sleep(5) # let some data flow..\n",
    "\n",
    "bm.stop_socket(conn_key)"
   ]
  },
  {
   "cell_type": "markdown",
   "metadata": {},
   "source": [
    "### A Better Way\n",
    "What we did above was pretty cool. We subscribed to a stream of realtime trade data from binance, made it easy to read, and performed a simple calculation on it. But there was a lot of work that we had to do to get there. What if we had to do this for every exchange? A lot of time evaluating the market would be spent getting stuck on issues like dealing with numbers as strings, or cryptic 'is buyer market maker' type fields. Every exchange is different too. \n",
    "\n",
    "We also need to keep in mind that we only start getting new trades. We don't even have access to historical data yet for binance.\n",
    "\n",
    "### LiveDataFrame\n",
    "The good news is, LiveDataFrame has taken care of that for you. It provides access to every coin on Binance (and other exchanges too!), with realtime updates of OHLC data with 5 second granularity. It also provides up to 4 hours of historical data for every coin!\n",
    "\n",
    "Lets see how easy it is to start with LiveDataFrame. First, [sign up](https://app.livedataframe.com/users/new) and get your api keys.\n",
    "\n",
    "Then `pip install livedataframe` to install the client and use the code below:"
   ]
  },
  {
   "cell_type": "code",
   "execution_count": 2,
   "metadata": {},
   "outputs": [
    {
     "name": "stdout",
     "output_type": "stream",
     "text": [
      "Seeding With Data... This Could Take a Few Minutes.\n",
      "TOTAL TIME TO LOAD: 0:01:02.963685\n"
     ]
    }
   ],
   "source": [
    "from livedataframe import LiveExchange, ExchangeInfo\n",
    "\n",
    "# Lets get a list of all symbols trading on binance\n",
    "all_symbols_binance = ExchangeInfo.list_symbols_for('binance')\n",
    "\n",
    "livedf = LiveExchange(\n",
    "    public_key='<YOUR-PUBLIC-KEY>', # Enter your public key that was emailed\n",
    "    secret_key='<YOUR-PRIVATE-KEY>', # Enter your secret key that was emailed\n",
    "    exchange = 'binance', # Enter your exchange\n",
    "    symbols = all_symbols_binance, # Enter a dict of symbols. How about lets get them all?\n",
    "    lookback_period = '1H')\n",
    "\n",
    "livedf.start()"
   ]
  },
  {
   "cell_type": "markdown",
   "metadata": {},
   "source": [
    "You can access a symbol that is trading on binance using the symbols dictionary. What you get is a [DataFrame](https://www.datacamp.com/community/blog/python-pandas-cheat-sheet) that is always up to date with the current OHLC data on binance. Not bad for 15 lines of code."
   ]
  },
  {
   "cell_type": "code",
   "execution_count": null,
   "metadata": {},
   "outputs": [],
   "source": [
    "livedf.symbols['ETHBTC'].tail()"
   ]
  },
  {
   "cell_type": "markdown",
   "metadata": {},
   "source": [
    "Lets look at last price and last trade quantity:"
   ]
  },
  {
   "cell_type": "code",
   "execution_count": 4,
   "metadata": {},
   "outputs": [
    {
     "data": {
      "text/html": [
       "<div>\n",
       "<style scoped>\n",
       "    .dataframe tbody tr th:only-of-type {\n",
       "        vertical-align: middle;\n",
       "    }\n",
       "\n",
       "    .dataframe tbody tr th {\n",
       "        vertical-align: top;\n",
       "    }\n",
       "\n",
       "    .dataframe thead th {\n",
       "        text-align: right;\n",
       "    }\n",
       "</style>\n",
       "<table border=\"1\" class=\"dataframe\">\n",
       "  <thead>\n",
       "    <tr style=\"text-align: right;\">\n",
       "      <th></th>\n",
       "      <th>last_price</th>\n",
       "      <th>last_trade_qty</th>\n",
       "    </tr>\n",
       "  </thead>\n",
       "  <tbody>\n",
       "    <tr>\n",
       "      <th>2018-06-22 06:50:24+00:00</th>\n",
       "      <td>0.078322</td>\n",
       "      <td>0.055</td>\n",
       "    </tr>\n",
       "  </tbody>\n",
       "</table>\n",
       "</div>"
      ],
      "text/plain": [
       "                           last_price  last_trade_qty\n",
       "2018-06-22 06:50:24+00:00    0.078322           0.055"
      ]
     },
     "execution_count": 4,
     "metadata": {},
     "output_type": "execute_result"
    }
   ],
   "source": [
    "#      access 'ETHBTC'    'last price'  'last trade qty'    '-1 for most recent value'\n",
    "livedf.symbols['ETHBTC'][['last_price', 'last_trade_qty']].iloc[[-1]]"
   ]
  },
  {
   "cell_type": "markdown",
   "metadata": {},
   "source": [
    "Very easy to read isn't it? Lets do some magic and watch this in real time:"
   ]
  },
  {
   "cell_type": "code",
   "execution_count": 6,
   "metadata": {},
   "outputs": [
    {
     "name": "stdout",
     "output_type": "stream",
     "text": [
      "                           last_price  last_trade_qty\n",
      "2018-06-22 06:52:19+00:00    0.078287           0.062\n"
     ]
    }
   ],
   "source": [
    "import time\n",
    "from IPython.display import clear_output # To clear the output.\n",
    "  \n",
    "while True:\n",
    "    try: \n",
    "        clear_output(wait=True)\n",
    "        print(livedf.symbols['ETHBTC'][['last_price', 'last_trade_qty']].iloc[[-1]])\n",
    "        time.sleep(5)\n"
   ]
  },
  {
   "cell_type": "markdown",
   "metadata": {},
   "source": [
    "More..."
   ]
  },
  {
   "cell_type": "code",
   "execution_count": 7,
   "metadata": {},
   "outputs": [
    {
     "name": "stdout",
     "output_type": "stream",
     "text": [
      "                           symbol  last_price  last_trade_qty\n",
      "2018-06-22 06:52:49+00:00  ETHBTC    0.078365           0.544\n",
      "\n",
      "\n",
      "                           symbol  last_price  last_trade_qty\n",
      "2018-06-22 06:52:49+00:00  LTCBTC    0.014386             9.4\n"
     ]
    }
   ],
   "source": [
    "import time\n",
    "from IPython.display import clear_output # To clear the output.\n",
    "\n",
    "while True:\n",
    "    clear_output(wait=True)\n",
    "    print(livedf.symbols['ETHBTC'][['symbol', 'last_price', 'last_trade_qty']].iloc[[-1]])\n",
    "    print('\\n')\n",
    "    print(livedf.symbols['LTCBTC'][['symbol', 'last_price', 'last_trade_qty']].iloc[[-1]])\n",
    "    time.sleep(5)"
   ]
  },
  {
   "cell_type": "markdown",
   "metadata": {},
   "source": [
    "Check out our [documentation](https://docs.livedataframe.com) to see what else you can do with LiveDataFrame!"
   ]
  },
  {
   "cell_type": "markdown",
   "metadata": {},
   "source": [
    "_DISCLAIMER: The above references an opinion and is for information purposes only. It is not intended to be investment advice. Seek a duly licensed professional for investment advice._"
   ]
  }
 ],
 "metadata": {
  "kernelspec": {
   "display_name": "Python 3",
   "language": "python",
   "name": "python3"
  },
  "language_info": {
   "codemirror_mode": {
    "name": "ipython",
    "version": 3
   },
   "file_extension": ".py",
   "mimetype": "text/x-python",
   "name": "python",
   "nbconvert_exporter": "python",
   "pygments_lexer": "ipython3",
   "version": "3.6.3"
  }
 },
 "nbformat": 4,
 "nbformat_minor": 2
}
