{
 "cells": [
  {
   "cell_type": "markdown",
   "metadata": {},
   "source": [
    "# Create a Simple Crypto Coin Arbitrage Bot Between Two Exchanges: Bitfinex and Binance\n",
    "\n",
    "### Purpose of this tutorial\n",
    "To create an augmented trading tool that will find, and alert you to, arbitrage opportunities across all assets on 2 different exchanges.\n",
    "    \n",
    "### What you will be creating:\n",
    "An augmented trading tool that identifies realtime arbitrage opportunies across 2 exchanges that:\n",
    "  - monitors both exchanges and all of their shared assets in real time\n",
    "  - takes a `percent_difference_threshold` parameter that will filter our arbitrage opportunities to those with values that are at least X% different\n",
    "  - displays a dataframe of coins with arbitrage opportunies that contains:\n",
    "      - name of coin\n",
    "      - price on bitfinex\n",
    "      - price on binance\n",
    "      - the percent difference between the two assets\n",
    "      - and the 'recipe' for exploiting the opportunity:\n",
    "     - e.g recipe: `BUY ETHUSD on BITFINEX and SELL ETHUSD on BINANCE`\n",
    "  - updates this dataframe, checks for arbitrage opportunies, and prints the dataframe/recipe list every 7 seconds\n",
    "\n",
    "    \n",
    "### Prerequistes:\n",
    "- Python3\n",
    "- `livedataframe` package: `pip3 install livedataframe`\n",
    "- public and secret keys from https://app.livedataframe.com/users/new (sign up is free)\n",
    "- a can-do attitude\n",
    "\n",
    "    \n",
    "    \n",
    "    \n"
   ]
  },
  {
   "cell_type": "markdown",
   "metadata": {},
   "source": [
    "## Introduction To Arbitrage\n",
    "\n",
    "#### What is Arbitrage?\n",
    "Arbitrage is where you look at the price of an identical asset (in this case crypto coins) on two different exchanges and exploit a price difference (an arbitrage opportunity).\n",
    "\n",
    "#### How will we be using it?\n",
    "We will be looking at the price of identical crypto coins on Bitfinex and Binance and determining if an asset is trading at a higher price on a given exchange. We will _not_ be considering transfer/withdrawl fees, or trade/order fees in this tutorial. We will be making a tool that will automatically alert us when one of these opporunties arises.\n",
    "\n",
    "\n"
   ]
  },
  {
   "cell_type": "markdown",
   "metadata": {},
   "source": [
    "## Lets Get Started\n"
   ]
  },
  {
   "cell_type": "markdown",
   "metadata": {},
   "source": [
    "### Import Required Packages\n",
    "\n",
    "- If you have not installed livedataframe please do so now: `pip3 install livedataframe`"
   ]
  },
  {
   "cell_type": "code",
   "execution_count": null,
   "metadata": {},
   "outputs": [],
   "source": [
    "from livedataframe import LiveExchange, ExchangeInfo # The core packages used by this tutorial\n",
    "import pandas as pd # import pandas for creating our new tool\n",
    "from IPython.display import clear_output # for displaying the output of our monitoring tool\n",
    "import time # for sleeping our tools loop"
   ]
  },
  {
   "cell_type": "markdown",
   "metadata": {},
   "source": [
    "### Add your LiveDataFrame Api Keys\n",
    "In the box below, please replace `<YOUR_PUBLIC_KEY_HERE>` and `<YOUR_SECRET_KEY_HERE>` with your actual public and secret LiveDataFrame keys (as strings). \n",
    "\n",
    "These Api keys should have been emailed to you when you  when you [signed up](https://app.livedataframe.com/users/new) for LiveDataFrane"
   ]
  },
  {
   "cell_type": "code",
   "execution_count": null,
   "metadata": {},
   "outputs": [],
   "source": [
    "PUBLIC_KEY = \"<YOUR_PUBLIC_KEY_HERE>\"\n",
    "SECRET_KEY = \"<YOUR_SECRET_KEY_HERE>\""
   ]
  },
  {
   "cell_type": "markdown",
   "metadata": {},
   "source": [
    "## Prepare the symbols we want to watch\n",
    "Bitfinex has asset/base pairs that Binance does not have, and vice versa. The first thing we have to do is curate a list of asset/base pairs shared between each exchange. \n",
    "\n"
   ]
  },
  {
   "cell_type": "markdown",
   "metadata": {},
   "source": [
    "### Find the Bases (Markets) shared between Bitfinex and Binance\n",
    "\n",
    "Let's start by getting a list of the base currencies used on each exchange.\n",
    "\n",
    "In order to do this we will create two functions: one for getting a base from a pair and another for returning a list of bases from a list of pairs.\n",
    "\n",
    "To get these lists of pairs we will utilize the helper class `ExchangeInfo` and its method `list_symbols_for`. This method will return a list of actively traded _pairs_ for that exchange. Once we have this list of pairs we will have to pull out the portion referencing the base currency.\n",
    "\n",
    "Conveniently, both binance and bitfinex use the format `QUOTEBASE` (e.g the symbol `ETHUSD` corresponds to a quote asset of `ETH` (ethereum) and a base asset of `USD` (U.S Dollar). So, in order to get the base currency we just have to look at the tail end of the symbol returned. \n",
    "\n",
    "**GOTCHA:**\n",
    "Usually the base currency is the last 3 characters of our symbol (as in the example above); however, there is one base that is 4 letters long: `USDT`. We need to manually check for `USDT` before we take the last 3 characters as the base - in the case of `USDT` we need to take the last 4 characters."
   ]
  },
  {
   "cell_type": "markdown",
   "metadata": {},
   "source": [
    "#### Create Functions to Get Base Currencies From a List of Pairs\n"
   ]
  },
  {
   "cell_type": "code",
   "execution_count": null,
   "metadata": {},
   "outputs": [],
   "source": [
    "def get_base_from_pair(pair):\n",
    "        # USDT is the only 4 letter base currency so we should manually check for it.\n",
    "        # if found lets manually put it into the base list instead of taking the last 3 characters\n",
    "        if 'USDT' in pair:\n",
    "            return 'USDT'  \n",
    "        else:\n",
    "            return pair[-3:] # use the last 3 characters as the base currency identifier\n",
    "            \n",
    "def get_base_currencies_from_pairs(pairs):\n",
    "    bases = [] # create empty list to store bases\n",
    "    for pair in pairs: # iterate through all pairs returned\n",
    "        base = get_base_from_pair(pair) # get base\n",
    "        bases.append(base)\n",
    "\n",
    "    return list(set(bases))# turn list into a set to get unique values and then back into a list"
   ]
  },
  {
   "cell_type": "markdown",
   "metadata": {},
   "source": [
    "#### Get List of Base Currencies on Bitfinex"
   ]
  },
  {
   "cell_type": "code",
   "execution_count": null,
   "metadata": {},
   "outputs": [],
   "source": [
    "bitfinex_pairs = ExchangeInfo.list_symbols_for('bitfinex')\n",
    "bitfinex_bases = get_base_currencies_from_pairs(bitfinex_pairs)\n",
    "bitfinex_bases"
   ]
  },
  {
   "cell_type": "markdown",
   "metadata": {},
   "source": [
    "#### Get a List of Base Currencies on Binance"
   ]
  },
  {
   "cell_type": "code",
   "execution_count": null,
   "metadata": {},
   "outputs": [],
   "source": [
    "binance_pairs = ExchangeInfo.list_symbols_for('binance')\n",
    "binance_bases = get_base_currencies_from_pairs(binance_pairs)\n",
    "binance_bases"
   ]
  },
  {
   "cell_type": "markdown",
   "metadata": {},
   "source": [
    "#### Get a List of Shared Base Currencies\n",
    "Now that we have a list of bases for each exchange, let's find out which bases are shared between the two exchanges. These shared bases will be the markets our arbitrage bot will operate in."
   ]
  },
  {
   "cell_type": "code",
   "execution_count": null,
   "metadata": {},
   "outputs": [],
   "source": [
    "shared_bases = list(set(binance_bases).intersection(bitfinex_bases))\n",
    "shared_bases"
   ]
  },
  {
   "cell_type": "markdown",
   "metadata": {},
   "source": [
    "At the time of writing there were only two shared bases: `ETH` and `BTC` so those are the only two markets that our arbitrage bot/script will operate in"
   ]
  },
  {
   "cell_type": "markdown",
   "metadata": {},
   "source": [
    "### Curate the List of Shared Pairs from the Shared Bases (markets)\n",
    "Now that we have a list of the shared bases (markets) on the two exchanges lets get a list of all the pairs shared between binance and bitfinex with these shared bases.\n",
    "\n",
    "To start, let's create another function to select pairs with a specific base. This function will take a list of pairs and a specified list of bases to filter by. If a pair has one of the specified bases then it will be included in the output. If not, it will be ignored (filtered).\n"
   ]
  },
  {
   "cell_type": "markdown",
   "metadata": {},
   "source": [
    "#### Create Function To Select Only Pairs that have the Specified Base Currencies"
   ]
  },
  {
   "cell_type": "code",
   "execution_count": null,
   "metadata": {},
   "outputs": [],
   "source": [
    "def select_pairs_with_specified_base_currencies(specified_base_currencies, pairs):\n",
    "    filtered_pairs = [] # create empty list to put pairs with specified base_currency into\n",
    "    \n",
    "    for specified_base_currency in specified_base_currencies: # itereate through list of specified base currencies\n",
    "        for pair in pairs: # iterate through pairs\n",
    "            base = get_base_from_pair(pair)\n",
    "\n",
    "            if base == specified_base_currency: # check to see if pair has the specified base we are looking for\n",
    "                filtered_pairs.append(pair) # add pair to filtered pairs list because it has correct base\n",
    "            \n",
    "    return filtered_pairs"
   ]
  },
  {
   "cell_type": "markdown",
   "metadata": {},
   "source": [
    "#### Get Bitfinex Pairs for Shared Bases (Markets)"
   ]
  },
  {
   "cell_type": "code",
   "execution_count": null,
   "metadata": {},
   "outputs": [],
   "source": [
    "bitfinex_pairs_with_shared_bases = select_pairs_with_specified_base_currencies(shared_bases, bitfinex_pairs)\n",
    "bitfinex_pairs_with_shared_bases"
   ]
  },
  {
   "cell_type": "markdown",
   "metadata": {},
   "source": [
    "#### Get Binance Pairs for Shared Bases (Markets)"
   ]
  },
  {
   "cell_type": "code",
   "execution_count": null,
   "metadata": {},
   "outputs": [],
   "source": [
    "binance_pairs_with_shared_bases = select_pairs_with_specified_base_currencies(shared_bases, binance_pairs)\n",
    "binance_pairs_with_shared_bases"
   ]
  },
  {
   "cell_type": "markdown",
   "metadata": {},
   "source": [
    "#### Find Shared Pairs (finally)\n",
    "\n",
    "For each exchange, we have now identified the list of pairs (symbols) that are trading in the markets shared by both exchanges. The last step is to to turn these two lists into one list by finding the shared pairs in these shared markets.\n",
    "\n",
    "To do this we simply find the intersection of the two lists with some fancy pythoning."
   ]
  },
  {
   "cell_type": "code",
   "execution_count": null,
   "metadata": {},
   "outputs": [],
   "source": [
    "pairs_to_arbitrage = list(set(binance_pairs_with_shared_bases).intersection(bitfinex_pairs_with_shared_bases))\n",
    "pairs_to_arbitrage"
   ]
  },
  {
   "cell_type": "markdown",
   "metadata": {},
   "source": [
    "## Create the Arbitrage Tool/Bot\n",
    "\n",
    "We now have a list of pairs we can hunt for arbitrage opportunities on: `pairs_to_arbitrage`. The next step is build the tool itself. We will start by instantiating two instances of `LiveExchange`: one for Bitfinex and one for Binance. \n",
    "\n",
    "`LiveExchange` provides us with a dictionary of dataframes that updates every 5 seconds with new data (i.e LiveDataFrames). The keys on this dictionary are the pairs and the values are the LiveDataFrames - there is one key/value and hence one symbol/LiveDataFrame combo for every pair. \n",
    "\n",
    "We will dive into `LiveExchange` a little later. For now, let's just create the instances."
   ]
  },
  {
   "cell_type": "markdown",
   "metadata": {},
   "source": [
    "### Initialize the LiveExchange Instances for Both Exchanges\n",
    "We will initialize the LiveExchange instances with a 4 hour lookback period and our list of pairs to arbitrage. This means that for each pair we are watching (from the `pairs_to_arbitrage` list we calculated earlier) there will be a LiveDataFrame with 4 hours of historical data in it.\n"
   ]
  },
  {
   "cell_type": "markdown",
   "metadata": {},
   "source": [
    "#### Initialize the LiveExchange Instance for Bitfinex\n",
    "\n"
   ]
  },
  {
   "cell_type": "code",
   "execution_count": null,
   "metadata": {},
   "outputs": [],
   "source": [
    "live_bitfinex = LiveExchange(\n",
    "    exchange='bitfinex', \n",
    "    symbols = pairs_to_arbitrage, \n",
    "    public_key = PUBLIC_KEY, \n",
    "    secret_key = SECRET_KEY,\n",
    "    lookback_period = '4h'\n",
    ")"
   ]
  },
  {
   "cell_type": "markdown",
   "metadata": {},
   "source": [
    "#### Initialize the LiveExchange Instance for Binance\n",
    "\n"
   ]
  },
  {
   "cell_type": "code",
   "execution_count": null,
   "metadata": {},
   "outputs": [],
   "source": [
    "live_binance = LiveExchange(\n",
    "    exchange='binance', \n",
    "    symbols = pairs_to_arbitrage, \n",
    "    public_key = PUBLIC_KEY, \n",
    "    secret_key = SECRET_KEY,\n",
    "    lookback_period = '4h',\n",
    ")"
   ]
  },
  {
   "cell_type": "markdown",
   "metadata": {},
   "source": [
    "## Start the LiveExchange Instances\n",
    "\n",
    "After we have initialized the live exchange instances `live_bitfinex` and `live_binance`, we must start them by calling `.start()` on each instance. Calling `.start()` loads the historical data, subscribes to websockets for each symbol, and then appends each new tick into its own dataframe giving you a live dataframe with a 4 hour window of data. Let's start each LiveExchange instance now.\n",
    "\n",
    "Please note that, depending on your internet speed, when you first call .start() it can take anywhere from 3 seconds to 1 minute *per exchange* to load the historical data. This wait period is **only** for the first load up and you only have to do it at the start and never again... so please be patient with this initial load :)\n"
   ]
  },
  {
   "cell_type": "markdown",
   "metadata": {},
   "source": [
    "### Start live_bitfinex"
   ]
  },
  {
   "cell_type": "code",
   "execution_count": null,
   "metadata": {
    "scrolled": false
   },
   "outputs": [],
   "source": [
    "live_bitfinex.start()"
   ]
  },
  {
   "cell_type": "markdown",
   "metadata": {},
   "source": [
    "### Start live_binance"
   ]
  },
  {
   "cell_type": "code",
   "execution_count": null,
   "metadata": {},
   "outputs": [],
   "source": [
    "live_binance.start()"
   ]
  },
  {
   "cell_type": "markdown",
   "metadata": {},
   "source": [
    "## Access Your first LiveDataFrames\n",
    "As mentioned above, each `LiveExchange` instance provides you with a dictionary of LiveDataFrames for every symbol you requested - in our case the list of coins we are going arbitrage. \n",
    "\n",
    "To access one of these LiveDataFrames use the `.symbols` attribute while specifying the pair. \n",
    "\n",
    "For example:\n",
    "- to request the `NEOBTC` LiveDataFrame for Bitfinex: `live_bitfinex.symbols[\"NEOBTC\"]` \n",
    "- to request the `NEOBTC` LiveDataFrame for Binance: `live_binance.symbols[\"NEOBTC\"]` \n"
   ]
  },
  {
   "cell_type": "markdown",
   "metadata": {},
   "source": [
    "### Access `NEOBTC` LiveDataFrame for Binance:\n",
    "This dataframe continues 4 hours of historical data for `NEOBTC` AND it automagically updates every 5 - 10 seconds with a new row (the most recent data). How cool is that?\n",
    "\n",
    "Let's take a look at the entire dataframe for `NEOBTC` on Binance"
   ]
  },
  {
   "cell_type": "code",
   "execution_count": null,
   "metadata": {},
   "outputs": [],
   "source": [
    "live_binance.symbols['NEOBTC']"
   ]
  },
  {
   "cell_type": "markdown",
   "metadata": {},
   "source": [
    "#### Congratulations! You have just opened up your first LiveDataFrame!\n",
    "\n",
    "This dataframe contains 4 hours of historical data for `NEOBTC` on Binance AND it automagically updates every 5 - 10 seconds with a new row (the most recent data).\n",
    "\n",
    "PLUS, you can access LiveDataFrames just like it for every other symbol on the Binance exchange by using the same pattern... How cool is that?"
   ]
  },
  {
   "cell_type": "markdown",
   "metadata": {},
   "source": [
    "### Access `NEOBTC` LiveDataFrame for Bitfinex:\n",
    "Let's do the same thing for Bitfinex. This time though, we will call `.tail()` on our LiveDataFrame to view only the last 5 rows/updates. \n"
   ]
  },
  {
   "cell_type": "code",
   "execution_count": null,
   "metadata": {},
   "outputs": [],
   "source": [
    "live_bitfinex.symbols['NEOBTC'].tail()"
   ]
  },
  {
   "cell_type": "markdown",
   "metadata": {},
   "source": [
    "#### Seeing is Believing\n",
    "After you have done that, wait 5 - 10 seconds and then run the above cell again. Notice how there is new data being appended in the background - this is the **Live** portion of __Live__DataFrame\n"
   ]
  },
  {
   "cell_type": "markdown",
   "metadata": {},
   "source": [
    "## Quick Recap\n",
    "Before we get on with creating this tool, let's take a second to discuss what we have done so far.\n",
    "\n",
    "1. We curated a list pairs/coins that are being traded on both the Binance and Bitfinex Exchange\n",
    "2. We started a `LiveExchange` instance for each exchange that:\n",
    "    - contains a dictionary of dataframes for every symbol in our curated list\n",
    "    - has 4 hours of historical data for each coin it\n",
    "    - updates every 5-10 seconds with new data\n",
    "3. We accessed our first LiveDataFrame and watched it magically update with new data"
   ]
  },
  {
   "cell_type": "markdown",
   "metadata": {},
   "source": [
    "## Create the Arbitrage Tool\n",
    "\n",
    "Now that we have our data readily accesible, let's go ahead and create this tool. Remember, it needs to: \n",
    "- take two live_exchange instances and a `percent_difference_threshold` as parameters \n",
    "- continuously check for new opportunites when new data comes in (every 5-10 seconds)\n",
    "- display the opportunites in a dataframe telling us how to exploit them\n"
   ]
  },
  {
   "cell_type": "markdown",
   "metadata": {},
   "source": [
    "### Create function to calculate the percent difference between two values\n",
    "Since we don't want our tool to be alerting us to arbitrage opportunies that aren't worth it (i.e  the % difference between the two asset prices is too low), we need to create a function that calculates the % difference between two values.\n",
    "\n",
    "This function will take two numbers as parameters and return a float representing the % difference between them.\n",
    "\n",
    "We will be using the percent difference formula [here](https://www.calculatorsoup.com/calculators/algebra/percent-difference-calculator.php)\n"
   ]
  },
  {
   "cell_type": "code",
   "execution_count": null,
   "metadata": {},
   "outputs": [],
   "source": [
    "def calculate_percent_difference(value_1, value_2):\n",
    "    difference = value_1 - value_2\n",
    "    average = (value_1 + value_2) / 2.0\n",
    "    \n",
    "    percent_difference = (abs(difference) / average) * 100\n",
    "    \n",
    "    return percent_difference"
   ]
  },
  {
   "cell_type": "markdown",
   "metadata": {},
   "source": [
    "### Create a function to look for arbitrage opportunies across each exchange\n",
    "This function will be the 'core' of our simple arbitrage tool. It will take two `LiveExchange` instances, a `percent_difference_threshold` value, and a list of `pairs_to_arbitrage` as arguments, look for opportunities across all assets on each exchange, and return a simple output containing:\n",
    "    - name of coin/pair with the opportunity\n",
    "    - price on bitfinex\n",
    "    - price on binance\n",
    "    - the percent difference between the two assets\n",
    "    - and the 'recipe' for exploiting the opportunity:\n"
   ]
  },
  {
   "cell_type": "code",
   "execution_count": null,
   "metadata": {},
   "outputs": [],
   "source": [
    "def find_arbitrage_opportunities(exchange_1, exchange_2, pairs_to_arbitrage, percent_difference_threshold):\n",
    "    output = [] # create empty list to store output in\n",
    "    \n",
    "\n",
    "    for pair in pairs_to_arbitrage: # loop through pairs we are arbitraging\n",
    "        # get the latest price on each exchange for the asset\n",
    "        exchange_1_price = exchange_1.symbols[pair]['last_price'][-1] \n",
    "        exchange_2_price = exchange_2.symbols[pair]['last_price'][-1] \n",
    "        \n",
    "        # calculate percent difference\n",
    "        percent_difference = calculate_percent_difference(exchange_1_price, exchange_2_price)\n",
    "\n",
    "        \n",
    "        # check to see if percent difference is above threshold. Only process/add opportunity if it is\n",
    "        if percent_difference > percent_difference_threshold:\n",
    "            pair_data = { \"pair\": pair } # add symbol/pair to our output\n",
    "            \n",
    "            \n",
    "            # Create recipe\n",
    "            if exchange_1_price > exchange_2_price:\n",
    "                recipe = \"BUY on %s and SELL on %s\" %(exchange_1.exchange.upper(), exchange_2.exchange.upper())\n",
    "            else:\n",
    "                recipe = \"BUY on %s and SELL on %s\" %(exchange_2.exchange.upper(), exchange_1.exchange.upper())\n",
    "\n",
    "            \n",
    "            \n",
    "            pair_data[\"recipe\"] = recipe   # Add recipe to output\n",
    "\n",
    "                \n",
    "            # add prices for each exchange to our output\n",
    "            pair_data[exchange_1.exchange + '_last_price'] = exchange_1_price\n",
    "            pair_data[exchange_2.exchange + '_last_price'] = exchange_2_price\n",
    "\n",
    "\n",
    "            # add percent difference to our output\n",
    "            pair_data[\"percent_difference\"] = percent_difference\n",
    "            \n",
    "            output.append(pair_data)\n",
    "\n",
    "\n",
    "    return output\n",
    "            \n",
    "        \n",
    "    "
   ]
  },
  {
   "cell_type": "markdown",
   "metadata": {},
   "source": [
    "### Let's run our function and check for percent differences!\n",
    "Let's test out our new function by running it with `percent_threshold_difference = 2`. This will return all assets that currently have _at least_ a 2% difference in their `last_price` across the two exchanges."
   ]
  },
  {
   "cell_type": "code",
   "execution_count": null,
   "metadata": {},
   "outputs": [],
   "source": [
    "opportunities = find_arbitrage_opportunities(live_bitfinex, live_binance, pairs_to_arbitrage, percent_difference_threshold = 2)\n",
    "opportunities"
   ]
  },
  {
   "cell_type": "markdown",
   "metadata": {},
   "source": [
    "### Let's clean up the output and add our recipe\n",
    "\n",
    "As we can see in the output above, there are quite a few opportunities to exploit at a 2% `last_price` difference. While this output is a great start, let's go ahead and write a function to formout this output into an easy-to-read dataframe that:\n",
    "    - ranks the opportunities in descending order; and\n",
    "    - adds the exploitation 'recipe'"
   ]
  },
  {
   "cell_type": "code",
   "execution_count": null,
   "metadata": {},
   "outputs": [],
   "source": [
    "def format_arbitrage_opportunities(opportunities):\n",
    "    output_df = pd.DataFrame(opportunities) # turn array of opportunities into dataframe\n",
    "    output_df.index = output_df['pair'] #make index our 'pair' name\n",
    "    output_df = output_df.drop('pair', axis =1) # drop extraneous pair column\n",
    "    \n",
    "    # sort percent differences in ascending order\n",
    "    output_df = output_df.sort_values('percent_difference', ascending = False) \n",
    "    \n",
    "    return output_df \n",
    "        "
   ]
  },
  {
   "cell_type": "markdown",
   "metadata": {},
   "source": [
    "### Let's take a look at our pretty output"
   ]
  },
  {
   "cell_type": "code",
   "execution_count": null,
   "metadata": {},
   "outputs": [],
   "source": [
    "format_arbitrage_opportunities(opportunities)"
   ]
  },
  {
   "cell_type": "markdown",
   "metadata": {},
   "source": [
    "## Putting it All Together: Automation\n",
    "Looking pretty sweet, huh? Now, whenever we want to find some arbitrage opportunities between bitfinex and binance we just have to run our cool new function. However, we are algorithm traders and we automate things. Let's go ahead and put it all together into a function that will automate this entire process and display a new set of results every 7 seconds. \n",
    "\n",
    "We will call this function `watch_markets_for_arbitrage_opportunitities`. It will take our two `live_exchange` instances, our `percent_difference_threshold`, and our list of `pairs_to_arbitrage` as arguments. It will output our prettified results dataframe and update it every 7 seconds with a fresh batch of opportunities matching our criteria."
   ]
  },
  {
   "cell_type": "code",
   "execution_count": null,
   "metadata": {},
   "outputs": [],
   "source": [
    "def watch_markets_for_arbitrage_opportunities(exchange_1, exchange_2, pairs_to_arbitrage, percent_difference_threshold):\n",
    "    while True:\n",
    "        # find opportunities\n",
    "        opportunities = find_arbitrage_opportunities(exchange_1, exchange_2, pairs_to_arbitrage, percent_difference_threshold)\n",
    "        \n",
    "        # format opportunities\n",
    "        formatted_opportunities = format_arbitrage_opportunities(opportunities)\n",
    "        \n",
    "        # clear jupyter's output - wait until we give it something new to display\n",
    "        clear_output(wait = True) \n",
    "        \n",
    "        # display results dataframe \n",
    "        # (this allows us to update the same output in jupyter without having to print another one below it)\n",
    "        display(formatted_opportunities) \n",
    "        "
   ]
  },
  {
   "cell_type": "markdown",
   "metadata": {},
   "source": [
    "## Identify Arbitrage Opportunities in Realtime\n",
    "\n",
    "Our last step is by far the best: we get to turn it on and watch our tool display arbitrage opportunities as they happen in realtime! Run the cell below and pay close attention: it will update every 7 seconds. Depending on the time of day and the current market state, you may see large fluctuations or very small movements between each update - but it IS updating... we promise. Just look closely and you can see the percent difference values changing. Happy hunting!\n"
   ]
  },
  {
   "cell_type": "code",
   "execution_count": null,
   "metadata": {},
   "outputs": [],
   "source": [
    "watch_markets_for_arbitrage_opportunities(live_bitfinex, live_binance, pairs_to_arbitrage, percent_difference_threshold = 2)"
   ]
  },
  {
   "cell_type": "markdown",
   "metadata": {},
   "source": [
    "## Next steps to try on your own\n",
    "- Be 'smart' about the arbitrage opportunities you find. Look at the percent difference between the spread (bid/ask) on each exchange. In this example we looked at the last trade for an asset and not the price you could immediately sell it at (bid) or the price you could immediately buy it at (ask).\n",
    "- Have the tool physically alert you through a text message, email, or sound when a `alert_threshold` is reached\n",
    "- Try arbitraging across two different exchanges.\n",
    "- Try abritraging across three different exchanges at the same time!\n",
    "- Arbitrage across different base values (BUY ETHUSD on BITTREX and SELL ETHBTC on BINANCE)\n",
    "- Paper trade an arbitrage strategy and see how your bot does. Be sure to take into account trading fees!\n",
    "- Use jupyter/ipython widgets to create a GUI for using this tool (instead of typing in parameters)\n",
    "- Be sure to check out https://github.com/LiveDataFrame/Tutorials for more tutorials utilizing live dataframe"
   ]
  },
  {
   "cell_type": "code",
   "execution_count": null,
   "metadata": {},
   "outputs": [],
   "source": []
  }
 ],
 "metadata": {
  "kernelspec": {
   "display_name": "Python 3",
   "language": "python",
   "name": "python3"
  },
  "language_info": {
   "codemirror_mode": {
    "name": "ipython",
    "version": 3
   },
   "file_extension": ".py",
   "mimetype": "text/x-python",
   "name": "python",
   "nbconvert_exporter": "python",
   "pygments_lexer": "ipython3",
   "version": "3.6.5"
  }
 },
 "nbformat": 4,
 "nbformat_minor": 2
}
