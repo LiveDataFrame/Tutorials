{
 "cells": [
  {
   "cell_type": "markdown",
   "metadata": {},
   "source": [
    "# Create a Simple Crypto Coin Arbitrage Bot Between Two Exchanges: Bitfinex and Binance\n",
    "\n",
    "### Purpose of this tutorial\n",
    "To create an augmented trading tool that will find, and alert you to, arbitrage opportunities across all assets on 2 different exchanges.\n",
    "    \n",
    "### What you will be creating:\n",
    "An augmented trading tool that identifies realtime arbitrage opportunies across 2 exchanges that:\n",
    "  - can be configured to watch specific assets OR all assets shared between the exchanges\n",
    "  - monitors both exchanges and all of their assets in real time\n",
    "  - displays a dataframe of coins with arbitrage opportunies that cointains:\n",
    "      - name of coin\n",
    "      - price on bitfinex\n",
    "      - price on bittrex\n",
    "      - amount to be 'made' by exploiting the opportunity\n",
    "      - and the 'recipe' for exploiting the opportunity:\n",
    "     - e.g recipe: `BUY ETHUSD on BITFINEX and SELL ETHUSD on BINANCE`\n",
    "  - updates this dataframe, checks for arbitrage opportunies, and prints the dataframe/recipe list every 7 seconds\n",
    "  - plays a sound if an arbitrage opportunity is found\n",
    "\n",
    "    \n",
    "### Prerequistes:\n",
    "- Python3\n",
    "- `livedataframe` package: `pip3 install livedataframe`\n",
    "- public and secret keys from https://app.livedataframe.com/users/new (sign up is free)\n",
    "- a can-do attitude\n",
    "\n",
    "    \n",
    "    \n",
    "    \n"
   ]
  },
  {
   "cell_type": "markdown",
   "metadata": {},
   "source": [
    "## Introduction To Arbitrage\n",
    "\n",
    "#### What is Arbitrage?\n",
    "Arbitrage is where you look at the price of an identical asset (in this case crypto coins) on two different exchanges and exploit a price difference (an arbitrage opportunity).\n",
    "\n",
    "#### How will we be using it?\n",
    "We will be looking at the price of identical crypto coins on Bitfinex and Binance and determining if an asset is trading at a higher price on a given exchange. We will _not_ be considering transfer/withdrawl fees, or trade/order fees in Part 1 of this tutorial. We will be making a tool that will automatically alert us when one of these opporunties arises.\n",
    "\n",
    "\n"
   ]
  },
  {
   "cell_type": "markdown",
   "metadata": {},
   "source": [
    "## Lets Get Started\n"
   ]
  },
  {
   "cell_type": "markdown",
   "metadata": {},
   "source": [
    "### Import Required Packages\n",
    "\n",
    "- If you have not installed livedataframe please do so now: `pip3 install livedataframe`"
   ]
  },
  {
   "cell_type": "code",
   "execution_count": 2,
   "metadata": {},
   "outputs": [],
   "source": [
    "from livedataframe import LiveExchange, ExchangeInfo # The core packages used by this tutorial\n",
    "import pandas as pd # import pandas for creating our new tool\n",
    "from IPython.display import Audio, clear_output # for playing our alert sound and our monitoring tool\n",
    "import time # for sleeping our tools loop"
   ]
  },
  {
   "cell_type": "markdown",
   "metadata": {},
   "source": [
    "### Add your LiveDataFrame Api Keys\n",
    "In the box below, please replace `<YOUR_PUBLIC_KEY_HERE>` and `<YOUR_SECRET_KEY_HERE>` with your actual public and secret LiveDataFrame keys (as strings). \n",
    "\n",
    "These Api keys should have been emailed to you when you  when you [signed up](https://app.livedataframe.com/users/new) for LiveDataFrane"
   ]
  },
  {
   "cell_type": "code",
   "execution_count": 101,
   "metadata": {},
   "outputs": [],
   "source": [
    "PUBLIC_KEY = \"<YOUR_PUBLIC_KEY_HERE>\"\n",
    "SECRET_KEY = \"<YOUR_SECRET_KEY_HERE>\""
   ]
  },
  {
   "cell_type": "markdown",
   "metadata": {},
   "source": [
    "## Prepare the symbols we want to watch\n",
    "Bitfinex has asset/base pairs that Binance does not have, and vice versa. The first thing we have to do is curate a list of asset/base pairs shared between each exchange. \n",
    "\n"
   ]
  },
  {
   "cell_type": "markdown",
   "metadata": {},
   "source": [
    "### Find the Bases (Markets) shared between Bitfinex and Binance\n",
    "\n",
    "Let's start by getting a list of the base currencies used on each exchange.\n",
    "\n",
    "In order to do this we will create two functions: one for getting a base from a pair and another for returning a list of bases from a list of pairs.\n",
    "\n",
    "To get these lists of pairs we will utilize the helper class `ExchangeInfo` and its method `list_symbols_for`. This method will return a list of actively traded _pairs_ for that exchange. Once we have this list of pairs we will have to pull out the portion referencing the base currency.\n",
    "\n",
    "Conveniently, both binance and bitfinex use the format `QUOTEBASE` (e.g the symbol `ETHUSD` corresponds to a quote asset of `ETH` (ethereum) and a base asset of `USD` (U.S Dollar). So, in order to get the base currency we just have to look at the tail end of the symbol returned. \n",
    "\n",
    "**GOTCHA:**\n",
    "Usually the base currency is the last 3 characters of our symbol (as in the example above); however, there is one base that is 4 letters long: `USDT`. We need to manually check for `USDT` before we take the last 3 characters as the base - in the case of `USDT` we need to take the last 4 characters."
   ]
  },
  {
   "cell_type": "markdown",
   "metadata": {},
   "source": [
    "#### Create Functions to Get Base Currencies From a List of Pairs\n"
   ]
  },
  {
   "cell_type": "code",
   "execution_count": 78,
   "metadata": {},
   "outputs": [],
   "source": [
    "def get_base_from_pair(pair):\n",
    "        # USDT is the only 4 letter base currency so we should manually check for it.\n",
    "        # if found lets manually put it into the base list instead of taking the last 3 characters\n",
    "        if 'USDT' in pair:\n",
    "            return 'USDT'  \n",
    "        else:\n",
    "            return pair[-3:] # use the last 3 characters as the base currency identifier\n",
    "            \n",
    "def get_base_currencies_from_pairs(pairs):\n",
    "    bases = [] # create empty list to store bases\n",
    "    for pair in pairs: # iterate through all pairs returned\n",
    "        base = get_base_from_pair(pair) # get base\n",
    "        bases.append(base)\n",
    "\n",
    "    return list(set(bases))# turn list into a set to get unique values and then back into a list"
   ]
  },
  {
   "cell_type": "markdown",
   "metadata": {},
   "source": [
    "#### Get List of Base Currencies on Bitfinex"
   ]
  },
  {
   "cell_type": "code",
   "execution_count": 69,
   "metadata": {},
   "outputs": [
    {
     "data": {
      "text/plain": [
       "['ETH', 'USD', 'JPY', 'BTC', 'EUR', 'GBP']"
      ]
     },
     "execution_count": 69,
     "metadata": {},
     "output_type": "execute_result"
    }
   ],
   "source": [
    "bitfinex_pairs = ExchangeInfo.list_symbols_for('bitfinex')\n",
    "bitfinex_bases = get_base_currencies_from_pairs(bitfinex_pairs)\n",
    "bitfinex_bases"
   ]
  },
  {
   "cell_type": "markdown",
   "metadata": {},
   "source": [
    "#### Get a List of Base Currencies on Binance"
   ]
  },
  {
   "cell_type": "code",
   "execution_count": 70,
   "metadata": {},
   "outputs": [
    {
     "data": {
      "text/plain": [
       "['BTC', 'USDT', 'BNB', 'ETH']"
      ]
     },
     "execution_count": 70,
     "metadata": {},
     "output_type": "execute_result"
    }
   ],
   "source": [
    "binance_pairs = ExchangeInfo.list_symbols_for('binance')\n",
    "binance_bases = get_base_currencies_from_pairs(binance_pairs)\n",
    "binance_bases"
   ]
  },
  {
   "cell_type": "markdown",
   "metadata": {},
   "source": [
    "#### Get a List of Shared Base Currencies\n",
    "Now that we have a list of bases for each exchange, let's find out which bases are shared between the two exchanges. These shared bases will be the markets our arbitrage bot will operate in."
   ]
  },
  {
   "cell_type": "code",
   "execution_count": 58,
   "metadata": {},
   "outputs": [
    {
     "data": {
      "text/plain": [
       "['ETH', 'BTC']"
      ]
     },
     "execution_count": 58,
     "metadata": {},
     "output_type": "execute_result"
    }
   ],
   "source": [
    "shared_bases = list(set(binance_bases).intersection(bitfinex_bases))\n",
    "shared_bases"
   ]
  },
  {
   "cell_type": "markdown",
   "metadata": {},
   "source": [
    "At the time of writing there were only two shared bases: `ETH` and `BTC` so those are the only two markets that our arbitrage bot/script will operate in"
   ]
  },
  {
   "cell_type": "markdown",
   "metadata": {},
   "source": [
    "### Curate the List of Shared Pairs from the Shared Bases (markets)\n",
    "Now that we have a list of the shared bases (markets) on the two exchanges lets get a list of all the pairs shared between binance and bitfinex with these shared bases.\n",
    "\n",
    "To start, let's create another function to select pairs with a specific base. This function will take a list of pairs and a specified list of bases to filter by. If a pair has one of the specified bases then it will be included in the output. If not, it will be ignored (filtered).\n"
   ]
  },
  {
   "cell_type": "markdown",
   "metadata": {},
   "source": [
    "#### Create Function To Select Only Pairs that have the Specified Base Currencies"
   ]
  },
  {
   "cell_type": "code",
   "execution_count": 86,
   "metadata": {},
   "outputs": [],
   "source": [
    "def select_pairs_with_specified_base_currencies(specified_base_currencies, pairs):\n",
    "    filtered_pairs = [] # create empty list to put pairs with specified base_currency into\n",
    "    \n",
    "    for specified_base_currency in specified_base_currencies: # itereate through list of specified base currencies\n",
    "        for pair in pairs: # iterate through pairs\n",
    "            base = get_base_from_pair(pair)\n",
    "\n",
    "            if base == specified_base_currency: # check to see if pair has the specified base we are looking for\n",
    "                filtered_pairs.append(pair) # add pair to filtered pairs list because it has correct base\n",
    "            \n",
    "    return filtered_pairs"
   ]
  },
  {
   "cell_type": "markdown",
   "metadata": {},
   "source": [
    "#### Get Bitfinex Pairs for Shared Bases (Markets)"
   ]
  },
  {
   "cell_type": "code",
   "execution_count": 87,
   "metadata": {},
   "outputs": [
    {
     "data": {
      "text/plain": [
       "['IOTETH',\n",
       " 'EOSETH',\n",
       " 'SANETH',\n",
       " 'OMGETH',\n",
       " 'BCHETH',\n",
       " 'NEOETH',\n",
       " 'ETPETH',\n",
       " 'QTMETH',\n",
       " 'AVTETH',\n",
       " 'EDOETH',\n",
       " 'DATETH',\n",
       " 'QSHETH',\n",
       " 'YYWETH',\n",
       " 'GNTETH',\n",
       " 'SNTETH',\n",
       " 'BATETH',\n",
       " 'MNAETH',\n",
       " 'FUNETH',\n",
       " 'ZRXETH',\n",
       " 'TNBETH',\n",
       " 'SPKETH',\n",
       " 'TRXETH',\n",
       " 'RCNETH',\n",
       " 'RLCETH',\n",
       " 'AIDETH',\n",
       " 'SNGETH',\n",
       " 'REPETH',\n",
       " 'ELFETH',\n",
       " 'IOSETH',\n",
       " 'AIOETH',\n",
       " 'REQETH',\n",
       " 'RDNETH',\n",
       " 'LRCETH',\n",
       " 'WAXETH',\n",
       " 'DAIETH',\n",
       " 'CFIETH',\n",
       " 'AGIETH',\n",
       " 'BFTETH',\n",
       " 'MTNETH',\n",
       " 'ODEETH',\n",
       " 'ANTETH',\n",
       " 'DTHETH',\n",
       " 'MITETH',\n",
       " 'STJETH',\n",
       " 'XLMETH',\n",
       " 'XVGETH',\n",
       " 'MKRETH',\n",
       " 'VENETH',\n",
       " 'KNCETH',\n",
       " 'POAETH',\n",
       " 'LYMETH',\n",
       " 'UTKETH',\n",
       " 'VEEETH',\n",
       " 'DADETH',\n",
       " 'ORSETH',\n",
       " 'AUCETH',\n",
       " 'POYETH',\n",
       " 'FSNETH',\n",
       " 'CBTETH',\n",
       " 'LTCBTC',\n",
       " 'ETHBTC',\n",
       " 'ETCBTC',\n",
       " 'RRTBTC',\n",
       " 'ZECBTC',\n",
       " 'XMRBTC',\n",
       " 'DSHBTC',\n",
       " 'XRPBTC',\n",
       " 'IOTBTC',\n",
       " 'EOSBTC',\n",
       " 'SANBTC',\n",
       " 'OMGBTC',\n",
       " 'BCHBTC',\n",
       " 'NEOBTC',\n",
       " 'ETPBTC',\n",
       " 'QTMBTC',\n",
       " 'AVTBTC',\n",
       " 'EDOBTC',\n",
       " 'BTGBTC',\n",
       " 'DATBTC',\n",
       " 'QSHBTC',\n",
       " 'YYWBTC',\n",
       " 'GNTBTC',\n",
       " 'SNTBTC',\n",
       " 'BATBTC',\n",
       " 'MNABTC',\n",
       " 'FUNBTC',\n",
       " 'ZRXBTC',\n",
       " 'TNBBTC',\n",
       " 'SPKBTC',\n",
       " 'TRXBTC',\n",
       " 'RCNBTC',\n",
       " 'RLCBTC',\n",
       " 'AIDBTC',\n",
       " 'SNGBTC',\n",
       " 'REPBTC',\n",
       " 'ELFBTC',\n",
       " 'IOSBTC',\n",
       " 'AIOBTC',\n",
       " 'REQBTC',\n",
       " 'RDNBTC',\n",
       " 'LRCBTC',\n",
       " 'WAXBTC',\n",
       " 'DAIBTC',\n",
       " 'CFIBTC',\n",
       " 'AGIBTC',\n",
       " 'BFTBTC',\n",
       " 'MTNBTC',\n",
       " 'ODEBTC',\n",
       " 'ANTBTC',\n",
       " 'DTHBTC',\n",
       " 'MITBTC',\n",
       " 'STJBTC',\n",
       " 'XLMBTC',\n",
       " 'XVGBTC',\n",
       " 'BCIBTC',\n",
       " 'MKRBTC',\n",
       " 'VENBTC',\n",
       " 'KNCBTC',\n",
       " 'POABTC',\n",
       " 'LYMBTC',\n",
       " 'UTKBTC',\n",
       " 'VEEBTC',\n",
       " 'DADBTC',\n",
       " 'ORSBTC',\n",
       " 'AUCBTC',\n",
       " 'POYBTC',\n",
       " 'FSNBTC',\n",
       " 'CBTBTC']"
      ]
     },
     "execution_count": 87,
     "metadata": {},
     "output_type": "execute_result"
    }
   ],
   "source": [
    "bitfinex_pairs_with_shared_bases = select_pairs_with_specified_base_currencies(shared_bases, bitfinex_pairs)\n",
    "bitfinex_pairs_with_shared_bases"
   ]
  },
  {
   "cell_type": "markdown",
   "metadata": {},
   "source": [
    "#### Get Binance Pairs for Shared Bases (Markets)"
   ]
  },
  {
   "cell_type": "code",
   "execution_count": 88,
   "metadata": {},
   "outputs": [
    {
     "data": {
      "text/plain": [
       "['QTUMETH',\n",
       " 'EOSETH',\n",
       " 'SNTETH',\n",
       " 'BNTETH',\n",
       " 'BNBETH',\n",
       " 'OAXETH',\n",
       " 'DNTETH',\n",
       " 'MCOETH',\n",
       " 'ICNETH',\n",
       " 'WTCETH',\n",
       " 'LRCETH',\n",
       " 'OMGETH',\n",
       " 'ZRXETH',\n",
       " 'STRATETH',\n",
       " 'SNGLSETH',\n",
       " 'BQXETH',\n",
       " 'KNCETH',\n",
       " 'FUNETH',\n",
       " 'SNMETH',\n",
       " 'NEOETH',\n",
       " 'IOTAETH',\n",
       " 'LINKETH',\n",
       " 'XVGETH',\n",
       " 'SALTETH',\n",
       " 'MDAETH',\n",
       " 'MTLETH',\n",
       " 'SUBETH',\n",
       " 'ETCETH',\n",
       " 'MTHETH',\n",
       " 'ENGETH',\n",
       " 'ZECETH',\n",
       " 'ASTETH',\n",
       " 'DASHETH',\n",
       " 'BTGETH',\n",
       " 'EVXETH',\n",
       " 'REQETH',\n",
       " 'VIBETH',\n",
       " 'HSRETH',\n",
       " 'TRXETH',\n",
       " 'POWRETH',\n",
       " 'ARKETH',\n",
       " 'YOYOETH',\n",
       " 'XRPETH',\n",
       " 'MODETH',\n",
       " 'ENJETH',\n",
       " 'STORJETH',\n",
       " 'VENETH',\n",
       " 'KMDETH',\n",
       " 'RCNETH',\n",
       " 'NULSETH',\n",
       " 'RDNETH',\n",
       " 'XMRETH',\n",
       " 'DLTETH',\n",
       " 'AMBETH',\n",
       " 'BCCETH',\n",
       " 'BATETH',\n",
       " 'BCPTETH',\n",
       " 'ARNETH',\n",
       " 'GVTETH',\n",
       " 'CDTETH',\n",
       " 'GXSETH',\n",
       " 'POEETH',\n",
       " 'QSPETH',\n",
       " 'BTSETH',\n",
       " 'XZCETH',\n",
       " 'LSKETH',\n",
       " 'TNTETH',\n",
       " 'FUELETH',\n",
       " 'MANAETH',\n",
       " 'BCDETH',\n",
       " 'DGDETH',\n",
       " 'ADXETH',\n",
       " 'ADAETH',\n",
       " 'PPTETH',\n",
       " 'CMTETH',\n",
       " 'XLMETH',\n",
       " 'CNDETH',\n",
       " 'LENDETH',\n",
       " 'WABIETH',\n",
       " 'LTCETH',\n",
       " 'TNBETH',\n",
       " 'WAVESETH',\n",
       " 'GTOETH',\n",
       " 'ICXETH',\n",
       " 'OSTETH',\n",
       " 'ELFETH',\n",
       " 'AIONETH',\n",
       " 'NEBLETH',\n",
       " 'BRDETH',\n",
       " 'EDOETH',\n",
       " 'WINGSETH',\n",
       " 'NAVETH',\n",
       " 'LUNETH',\n",
       " 'TRIGETH',\n",
       " 'APPCETH',\n",
       " 'VIBEETH',\n",
       " 'RLCETH',\n",
       " 'INSETH',\n",
       " 'PIVXETH',\n",
       " 'IOSTETH',\n",
       " 'CHATETH',\n",
       " 'STEEMETH',\n",
       " 'NANOETH',\n",
       " 'VIAETH',\n",
       " 'BLZETH',\n",
       " 'AEETH',\n",
       " 'RPXETH',\n",
       " 'NCASHETH',\n",
       " 'POAETH',\n",
       " 'ZILETH',\n",
       " 'ONTETH',\n",
       " 'STORMETH',\n",
       " 'XEMETH',\n",
       " 'WANETH',\n",
       " 'WPRETH',\n",
       " 'QLCETH',\n",
       " 'SYSETH',\n",
       " 'GRSETH',\n",
       " 'CLOAKETH',\n",
       " 'GNTETH',\n",
       " 'LOOMETH',\n",
       " 'BCNETH',\n",
       " 'REPETH',\n",
       " 'TUSDETH',\n",
       " 'ZENETH',\n",
       " 'SKYETH',\n",
       " 'CVCETH',\n",
       " 'THETAETH',\n",
       " 'IOTXETH',\n",
       " 'QKCETH',\n",
       " 'AGIETH',\n",
       " 'NXSETH',\n",
       " 'DATAETH',\n",
       " 'SCETH',\n",
       " 'NPXSETH',\n",
       " 'ETHBTC',\n",
       " 'LTCBTC',\n",
       " 'BNBBTC',\n",
       " 'NEOBTC',\n",
       " 'BCCBTC',\n",
       " 'GASBTC',\n",
       " 'HSRBTC',\n",
       " 'MCOBTC',\n",
       " 'WTCBTC',\n",
       " 'LRCBTC',\n",
       " 'QTUMBTC',\n",
       " 'YOYOBTC',\n",
       " 'OMGBTC',\n",
       " 'ZRXBTC',\n",
       " 'STRATBTC',\n",
       " 'SNGLSBTC',\n",
       " 'BQXBTC',\n",
       " 'KNCBTC',\n",
       " 'FUNBTC',\n",
       " 'SNMBTC',\n",
       " 'IOTABTC',\n",
       " 'LINKBTC',\n",
       " 'XVGBTC',\n",
       " 'SALTBTC',\n",
       " 'MDABTC',\n",
       " 'MTLBTC',\n",
       " 'SUBBTC',\n",
       " 'EOSBTC',\n",
       " 'SNTBTC',\n",
       " 'ETCBTC',\n",
       " 'MTHBTC',\n",
       " 'ENGBTC',\n",
       " 'DNTBTC',\n",
       " 'ZECBTC',\n",
       " 'BNTBTC',\n",
       " 'ASTBTC',\n",
       " 'DASHBTC',\n",
       " 'OAXBTC',\n",
       " 'ICNBTC',\n",
       " 'BTGBTC',\n",
       " 'EVXBTC',\n",
       " 'REQBTC',\n",
       " 'VIBBTC',\n",
       " 'TRXBTC',\n",
       " 'POWRBTC',\n",
       " 'ARKBTC',\n",
       " 'XRPBTC',\n",
       " 'MODBTC',\n",
       " 'ENJBTC',\n",
       " 'STORJBTC',\n",
       " 'VENBTC',\n",
       " 'KMDBTC',\n",
       " 'RCNBTC',\n",
       " 'NULSBTC',\n",
       " 'RDNBTC',\n",
       " 'XMRBTC',\n",
       " 'DLTBTC',\n",
       " 'AMBBTC',\n",
       " 'BATBTC',\n",
       " 'BCPTBTC',\n",
       " 'ARNBTC',\n",
       " 'GVTBTC',\n",
       " 'CDTBTC',\n",
       " 'GXSBTC',\n",
       " 'POEBTC',\n",
       " 'QSPBTC',\n",
       " 'BTSBTC',\n",
       " 'XZCBTC',\n",
       " 'LSKBTC',\n",
       " 'TNTBTC',\n",
       " 'FUELBTC',\n",
       " 'MANABTC',\n",
       " 'BCDBTC',\n",
       " 'DGDBTC',\n",
       " 'ADXBTC',\n",
       " 'ADABTC',\n",
       " 'PPTBTC',\n",
       " 'CMTBTC',\n",
       " 'XLMBTC',\n",
       " 'CNDBTC',\n",
       " 'LENDBTC',\n",
       " 'WABIBTC',\n",
       " 'TNBBTC',\n",
       " 'WAVESBTC',\n",
       " 'GTOBTC',\n",
       " 'ICXBTC',\n",
       " 'OSTBTC',\n",
       " 'ELFBTC',\n",
       " 'AIONBTC',\n",
       " 'NEBLBTC',\n",
       " 'BRDBTC',\n",
       " 'EDOBTC',\n",
       " 'WINGSBTC',\n",
       " 'NAVBTC',\n",
       " 'LUNBTC',\n",
       " 'TRIGBTC',\n",
       " 'APPCBTC',\n",
       " 'VIBEBTC',\n",
       " 'RLCBTC',\n",
       " 'INSBTC',\n",
       " 'PIVXBTC',\n",
       " 'IOSTBTC',\n",
       " 'CHATBTC',\n",
       " 'STEEMBTC',\n",
       " 'NANOBTC',\n",
       " 'VIABTC',\n",
       " 'BLZBTC',\n",
       " 'AEBTC',\n",
       " 'RPXBTC',\n",
       " 'NCASHBTC',\n",
       " 'POABTC',\n",
       " 'ZILBTC',\n",
       " 'ONTBTC',\n",
       " 'STORMBTC',\n",
       " 'XEMBTC',\n",
       " 'WANBTC',\n",
       " 'WPRBTC',\n",
       " 'QLCBTC',\n",
       " 'SYSBTC',\n",
       " 'GRSBTC',\n",
       " 'CLOAKBTC',\n",
       " 'GNTBTC',\n",
       " 'LOOMBTC',\n",
       " 'BCNBTC',\n",
       " 'REPBTC',\n",
       " 'TUSDBTC',\n",
       " 'ZENBTC',\n",
       " 'SKYBTC',\n",
       " 'CVCBTC',\n",
       " 'THETABTC',\n",
       " 'IOTXBTC',\n",
       " 'QKCBTC',\n",
       " 'AGIBTC',\n",
       " 'NXSBTC',\n",
       " 'DATABTC',\n",
       " 'SCBTC',\n",
       " 'NPXSBTC']"
      ]
     },
     "execution_count": 88,
     "metadata": {},
     "output_type": "execute_result"
    }
   ],
   "source": [
    "binance_pairs_with_shared_bases = select_pairs_with_specified_base_currencies(shared_bases, binance_pairs)\n",
    "binance_pairs_with_shared_bases"
   ]
  },
  {
   "cell_type": "markdown",
   "metadata": {},
   "source": [
    "#### Find Shared Pairs (finally)\n",
    "\n",
    "For each exchange, we have now identified the list of pairs (symbols) that are trading in the markets shared by both exchanges. The last step is to to turn these two lists into one list by finding the shared pairs in these shared markets.\n",
    "\n",
    "To do this we simply find the intersection of the two lists with some fancy pythoning."
   ]
  },
  {
   "cell_type": "code",
   "execution_count": 104,
   "metadata": {},
   "outputs": [],
   "source": [
    "pairs_to_arbitrage = list(set(binance_pairs_with_shared_bases).intersection(bitfinex_pairs_with_shared_bases))"
   ]
  },
  {
   "cell_type": "markdown",
   "metadata": {},
   "source": [
    "## Create the Arbitrage Tool/Bot\n",
    "\n",
    "We now have a list of pairs we can hunt for arbitrage opportunities on: `pairs_to_arbitrage`. The next step is build the tool itself. We will start by instantiating two instances of `LiveExchange`: one for Bitfinex and one for Bittrex. \n",
    "\n",
    "`LiveExchange` provides us with a dictionary of dataframes that updates every 5 seconds with new data (i.e LiveDataFrames). The keys on this dictionary are the pairs and the values are the LiveDataFrames - there is one key/value and hence one symbol/LiveDataFrame combo for every pair. \n",
    "\n",
    "We will dive into `LiveExchange` a little later. For now, let's just create the instances."
   ]
  },
  {
   "cell_type": "markdown",
   "metadata": {},
   "source": [
    "### Initialize the LiveExchange Instances for Both Exchanges\n",
    "We will initialize the LiveExchange instances with a 4 hour lookback period and our list of pairs to arbitrage. This means that for each pair we are watching (from the `pairs_to_arbitrage` list we calculated earlier) there will be a LiveDataFrame with 4 hours of historical data in it.\n"
   ]
  },
  {
   "cell_type": "markdown",
   "metadata": {},
   "source": [
    "#### Initialize the LiveExchange Instance for Bitfinex\n",
    "\n"
   ]
  },
  {
   "cell_type": "code",
   "execution_count": 105,
   "metadata": {},
   "outputs": [],
   "source": [
    "live_bitfinex = LiveExchange(\n",
    "    exchange='bitfinex', \n",
    "    symbols = pairs_to_arbitrage, \n",
    "    public_key = PUBLIC_KEY, \n",
    "    secret_key = SECRET_KEY,\n",
    "    lookback_period = '4h'\n",
    ")"
   ]
  },
  {
   "cell_type": "markdown",
   "metadata": {},
   "source": [
    "#### Initialize the LiveExchange Instance for Binance\n",
    "\n"
   ]
  },
  {
   "cell_type": "code",
   "execution_count": 106,
   "metadata": {},
   "outputs": [],
   "source": [
    "live_bitfinex = LiveExchange(\n",
    "    exchange='binance', \n",
    "    symbols = pairs_to_arbitrage, \n",
    "    public_key = PUBLIC_KEY, \n",
    "    secret_key = SECRET_KEY,\n",
    "    lookback_period = '4h'\n",
    ")"
   ]
  },
  {
   "cell_type": "markdown",
   "metadata": {},
   "source": [
    "## Start the LiveExchange Instances\n",
    "\n",
    "After we have initialized the live exchange instances `live_bitfinex` and `live_binance`, we must start them by calling `.start()` on each instance. Calling `.start()` loads the historical data, subscribes to websockets for each symbol, and then appends each new tick into its own dataframe giving you a live dataframe with a 4 hour window of data. Let's start each LiveExchange instance now.\n",
    "\n",
    "Please note that, depending on your internet speed, when you first call .start() it can take anywhere from 10 seconds to 3 minutes *per exchange* to load the historical data. This wait period is **only** for the first load up and you only have to do it at the start and never again... so please be patient with this initial load :)\n"
   ]
  },
  {
   "cell_type": "code",
   "execution_count": 108,
   "metadata": {},
   "outputs": [
    {
     "name": "stdout",
     "output_type": "stream",
     "text": [
      "Seeding With Data... This Could Take a Few Minutes.\n",
      "Not Authorized. Please Verify Public and Secret Api Keys\n",
      "***\n",
      "ERROR! CODE: 401 -- Traceback (most recent call last):\n",
      "  File \"/usr/local/lib/python3.6/site-packages/livedataframe/LiveExchange.py\", line 67, in start\n",
      "    self._load_configs_and_messages()\n",
      "  File \"/usr/local/lib/python3.6/site-packages/livedataframe/LiveExchange.py\", line 155, in _load_configs_and_messages\n",
      "    response = self._get('http://%s/api/v1/messages_and_configs' %(self.ip), {\"message\": 'hello'}).json()\n",
      "  File \"/usr/local/lib/python3.6/site-packages/livedataframe/LiveExchange.py\", line 248, in _get\n",
      "    raise Exception('ERROR! CODE: %s' %(response.status_code))\n",
      "Exception: ERROR! CODE: 401\n",
      "\n"
     ]
    },
    {
     "ename": "NameError",
     "evalue": "name 'live_bittrex' is not defined",
     "output_type": "error",
     "traceback": [
      "\u001b[0;31m---------------------------------------------------------------------------\u001b[0m",
      "\u001b[0;31mNameError\u001b[0m                                 Traceback (most recent call last)",
      "\u001b[0;32m<ipython-input-108-73b621fc31cb>\u001b[0m in \u001b[0;36m<module>\u001b[0;34m()\u001b[0m\n\u001b[1;32m      1\u001b[0m \u001b[0mlive_bitfinex\u001b[0m\u001b[0;34m.\u001b[0m\u001b[0mstart\u001b[0m\u001b[0;34m(\u001b[0m\u001b[0;34m)\u001b[0m\u001b[0;34m\u001b[0m\u001b[0m\n\u001b[0;32m----> 2\u001b[0;31m \u001b[0mlive_bittrex\u001b[0m\u001b[0;34m.\u001b[0m\u001b[0mstart\u001b[0m\u001b[0;34m(\u001b[0m\u001b[0;34m)\u001b[0m\u001b[0;34m\u001b[0m\u001b[0m\n\u001b[0m",
      "\u001b[0;31mNameError\u001b[0m: name 'live_bittrex' is not defined"
     ]
    }
   ],
   "source": [
    "live_bitfinex.start()\n",
    "live_binance.start()"
   ]
  },
  {
   "cell_type": "code",
   "execution_count": 107,
   "metadata": {},
   "outputs": [
    {
     "ename": "NameError",
     "evalue": "name 'live_bittrex' is not defined",
     "output_type": "error",
     "traceback": [
      "\u001b[0;31m---------------------------------------------------------------------------\u001b[0m",
      "\u001b[0;31mNameError\u001b[0m                                 Traceback (most recent call last)",
      "\u001b[0;32m<ipython-input-107-e471a74fdc7d>\u001b[0m in \u001b[0;36m<module>\u001b[0;34m()\u001b[0m\n\u001b[0;32m----> 1\u001b[0;31m \u001b[0mlive_bittrex\u001b[0m\u001b[0;34m.\u001b[0m\u001b[0mstart\u001b[0m\u001b[0;34m(\u001b[0m\u001b[0;34m)\u001b[0m\u001b[0;34m\u001b[0m\u001b[0m\n\u001b[0m",
      "\u001b[0;31mNameError\u001b[0m: name 'live_bittrex' is not defined"
     ]
    }
   ],
   "source": []
  },
  {
   "cell_type": "markdown",
   "metadata": {},
   "source": [
    "When you first call `.start()` it can take a little while (anywhere from 10 seconds - 3 minutes depending on your internet speed) to load the initial historical data. Once that load is complete, you will have access to a dictionary of live data frames for every symbol on bittrex. To access one of these live dataframes use the `.symbols` attribute on the `live_bittrex` instance. For example, to access the live df for `BTC-ETH` we would specify `live_bittrex.symbols['BTC-ETH']`. This returns a dataframe that updates every 5 seconds. To see an update, wait 5 seconds and call it again.\n",
    "\n",
    "Let's go ahead and access the livedataframe for the `BTC-ETH` symbol\n",
    "\n"
   ]
  },
  {
   "cell_type": "markdown",
   "metadata": {},
   "source": [
    "# Access Your first Live DataFrame"
   ]
  },
  {
   "cell_type": "code",
   "execution_count": null,
   "metadata": {},
   "outputs": [],
   "source": [
    "live_bittrex.symbols['BTC-ETH'].tail()"
   ]
  },
  {
   "cell_type": "markdown",
   "metadata": {},
   "source": [
    "# Create Function for Building the Volume Change Monitor\n",
    "\n",
    "Let's actually start creating our augmented trading tool for monitoring volume changes. This tool will be a dataframe where the indexes will be the symbol names and the volume change over the specified interval will be the column. Let's go ahead and write a function do create this volume tool. This function will take the `LiveExchange` instance (`live_bittrex` in this case) and the specified time interval as inputs. "
   ]
  },
  {
   "cell_type": "code",
   "execution_count": null,
   "metadata": {},
   "outputs": [],
   "source": [
    "def create_volume_monitor_dataframe(live_exchange, time_interval):\n",
    "    output = {} # instantiate dictionary to hold our volume indicators\n",
    "    \n",
    "#     live_exchange = live_exchange\n",
    "    count = 0\n",
    "    for symbol, live_dataframe in live_exchange.symbols.items(): # Loop through every symbol and its corresponding live dataframe in the live_exchange instance\n",
    "        live_dataframe = live_dataframe.last(time_interval)        \n",
    "        \n",
    "        beginning_volume = live_dataframe['Volume'].iloc[0] # volume of asset at the specified time interval \"ago\" . E.g: if time_interval was '10m' this would be volume 10 minutes ago\n",
    "        current_volume = live_dataframe['Volume'].iloc[-1] # current volume of the asset\n",
    "        \n",
    "        percent_change = ((current_volume - beginning_volume) / beginning_volume) * 100# calculate volume percent change\n",
    "        \n",
    "        output[symbol] = percent_change # store percent change\n",
    "        \n",
    "        \n",
    "    volume_monitor_df = pd.DataFrame.from_dict(output, orient = 'index') # create volume monitor dataframe with indexes as symbols and column values as volume percent changes\n",
    "    volume_monitor_df.columns = [time_interval + \" vol % chg\"] # add column name to dataframe as the specifed interval\n",
    "    \n",
    "    return volume_monitor_df # return the volume monitor dataframe    "
   ]
  },
  {
   "cell_type": "markdown",
   "metadata": {},
   "source": [
    "# Run Function and Create Volume Monitor DataFrame\n",
    "Now that we have created a function that builds a new dataframe that adds a \"Vol % Change\" column for our specified interval accross all bittrex assets, let's see the result. Let's take a look at the volume change for each asset over the last 1 hour and sort our dataframe so the coins with the highest volume changes are at the top"
   ]
  },
  {
   "cell_type": "code",
   "execution_count": null,
   "metadata": {},
   "outputs": [],
   "source": [
    "volume_change_period = '1h' # look at the volume change over 1 hour\n",
    "create_volume_monitor_dataframe(live_bittrex, volume_change_period).sort_values(by = volume_change_period + \" vol % chg\", ascending = False)"
   ]
  },
  {
   "cell_type": "markdown",
   "metadata": {},
   "source": [
    "As we can see, we have just created a dataframe that shows us the percent changes over the last 1 hour for each asset and ranks them by greatest volume change -- pretty cool huh? Now, let's go ahead and implement the volume threshold."
   ]
  },
  {
   "cell_type": "markdown",
   "metadata": {},
   "source": [
    "# Add a Volume Threshold Filter\n",
    "Currently, our tool lists the volume changes for all of the coins on bittrex for a specified time period. There are a lot of coins on bittrex, 291 at the time of writing, so let's filter this list down to what we want. Let's make a function that will take our `volume_monitor_df` and a `volume_threshold` as parameters and then filter our dataframe down to symbols whose volume changes are greater than this threshold."
   ]
  },
  {
   "cell_type": "code",
   "execution_count": null,
   "metadata": {},
   "outputs": [],
   "source": [
    "def filter_volume_monitor_df_by_threshold(volume_monitor_df, volume_threshold):\n",
    "    symbols_above_threshold = volume_monitor_df.loc[volume_monitor_df[volume_monitor_df.columns[0]] > volume_threshold] # select the rows from volume monitor dataframe where the volume change is greater than threshold \n",
    "\n",
    "    return symbols_above_threshold"
   ]
  },
  {
   "cell_type": "markdown",
   "metadata": {},
   "source": [
    "# Use the Volume Threshold Filter\n",
    "Let's go ahead and use this filter function now and filter all symbols that have had a volume change of at LEAST 20% in the last 1 hour."
   ]
  },
  {
   "cell_type": "code",
   "execution_count": null,
   "metadata": {},
   "outputs": [],
   "source": [
    "volume_monitor_df = create_volume_monitor_dataframe(live_bittrex, '1h')\n",
    "filter_volume_monitor_df_by_threshold(volume_monitor_df, 20)\n"
   ]
  },
  {
   "cell_type": "markdown",
   "metadata": {},
   "source": [
    "# Monitor, and Alert on, Volume Changes in Realtime!\n",
    "At this point we could keep running these two functions together over and over again and record the changes. This would allow us to 'monitor' the changes, but it wouldn't exactly be automated. Let's put these two functions in a loop that will check our volume changes every 7 seconds and list the coins that have volume changes greater than our threshold over the specified interval. For fun, let's also add the ability to play a cash register sound if our tool discovers volume changes that meet our criteria. We can enable this sound by passing `alert_with_sound = True` into our function.\n"
   ]
  },
  {
   "cell_type": "markdown",
   "metadata": {},
   "source": [
    "### Create The Function"
   ]
  },
  {
   "cell_type": "code",
   "execution_count": null,
   "metadata": {},
   "outputs": [],
   "source": [
    "def monitor_volume_changes_and_alert_when_threshold_reached(live_exchange, volume_threshold, time_interval, alert_with_sound = False):\n",
    "   \n",
    "    while True:\n",
    "        volume_monitor_df = create_volume_monitor_dataframe(live_exchange, time_interval)\n",
    "        coins_above_threshold = filter_volume_monitor_df_by_threshold(volume_monitor_df, volume_threshold)\n",
    "\n",
    "        if len(coins_above_threshold) > 0: # check to see if there are any coins meeting criteria\n",
    "\n",
    "            if alert_with_sound: # play sound if alert_with_sound kw param is passed in\n",
    "                display(Audio(\"http://thecyberbuddy.com/sounds/CashRegister1.wav\", autoplay = True)) # play cash register sound\n",
    "\n",
    "            clear_output(wait = True) # clear jupyter notebook dataframe output\n",
    "            \n",
    "            coins_above_threshold = coins_above_threshold.applymap(\"{0:.2f}%\".format) #  format the % change ouput\n",
    "            display(coins_above_threshold) # redisplay jupyter notebook dataframe output with updated values\n",
    "\n",
    "        \n",
    "        else:\n",
    "            print('No coins found with volume changes greater than %s%% in the last %s' % (volume_threshold, time_interval))\n",
    "            \n",
    "        time.sleep(7) # wait 7 seconds before checking the volumes again\n",
    "\n"
   ]
  },
  {
   "cell_type": "markdown",
   "metadata": {},
   "source": [
    "### Run The Function\n",
    "Now that we have created our master function that will alert us to volume changes that satistfy our criteria. Lets implement it in a real-world scenario: finding coins that are being pumped.\n",
    "\n",
    "Let's set our `time_interval` to `20s` and our `volume_threshold` to `.10` (a tenth of a percent change). When we run this function we will be alerted if a coin has seen a significant increase in volume in the last 20 seconds. You may want to specify `alert_with_sound = False` after running it a few times to silence the noise. If you do not see any coins, try lowering your volume threshold or increasing your time interval. Happy Hunting! :)"
   ]
  },
  {
   "cell_type": "code",
   "execution_count": 1,
   "metadata": {},
   "outputs": [
    {
     "ename": "NameError",
     "evalue": "name 'monitor_volume_changes_and_alert_when_threshold_reached' is not defined",
     "output_type": "error",
     "traceback": [
      "\u001b[0;31m---------------------------------------------------------------------------\u001b[0m",
      "\u001b[0;31mNameError\u001b[0m                                 Traceback (most recent call last)",
      "\u001b[0;32m<ipython-input-1-64f304df59aa>\u001b[0m in \u001b[0;36m<module>\u001b[0;34m()\u001b[0m\n\u001b[0;32m----> 1\u001b[0;31m monitor_volume_changes_and_alert_when_threshold_reached(\n\u001b[0m\u001b[1;32m      2\u001b[0m     \u001b[0mlive_bittrex\u001b[0m\u001b[0;34m,\u001b[0m\u001b[0;34m\u001b[0m\u001b[0m\n\u001b[1;32m      3\u001b[0m     \u001b[0mvolume_threshold\u001b[0m \u001b[0;34m=\u001b[0m \u001b[0;36m.10\u001b[0m\u001b[0;34m,\u001b[0m\u001b[0;34m\u001b[0m\u001b[0m\n\u001b[1;32m      4\u001b[0m     \u001b[0mtime_interval\u001b[0m \u001b[0;34m=\u001b[0m \u001b[0;34m'20s'\u001b[0m\u001b[0;34m,\u001b[0m\u001b[0;34m\u001b[0m\u001b[0m\n\u001b[1;32m      5\u001b[0m     \u001b[0malert_with_sound\u001b[0m \u001b[0;34m=\u001b[0m \u001b[0;32mFalse\u001b[0m\u001b[0;34m\u001b[0m\u001b[0m\n",
      "\u001b[0;31mNameError\u001b[0m: name 'monitor_volume_changes_and_alert_when_threshold_reached' is not defined"
     ]
    }
   ],
   "source": [
    "monitor_volume_changes_and_alert_when_threshold_reached(\n",
    "    live_bittrex, \n",
    "    volume_threshold = .10, \n",
    "    time_interval = '20s', \n",
    "    alert_with_sound = False\n",
    ")"
   ]
  },
  {
   "cell_type": "markdown",
   "metadata": {},
   "source": [
    "# Next Steps\n",
    "- Try monitoring multiple time intervals at the same time and come up with an algorithm for alerting based on these changes:\n",
    "    - e.g \"alert when 10m interval is > 5% AND 1hr interval is >20%\"\n",
    "- Place orders instead of alerting\n",
    "- Turn the display into a heatmap or better visual output\n",
    "- Find correlations in the volume changes of different assets\n",
    "- Use jupyter/ipython widgets to create a GUI for using this tool (instead of typing in parameters)\n",
    "- Be sure to check out https://github.com/LiveDataFrame/Tutorials for more tutorials utilizing live dataframe"
   ]
  },
  {
   "cell_type": "code",
   "execution_count": null,
   "metadata": {},
   "outputs": [],
   "source": []
  }
 ],
 "metadata": {
  "kernelspec": {
   "display_name": "Python 3",
   "language": "python",
   "name": "python3"
  },
  "language_info": {
   "codemirror_mode": {
    "name": "ipython",
    "version": 3
   },
   "file_extension": ".py",
   "mimetype": "text/x-python",
   "name": "python",
   "nbconvert_exporter": "python",
   "pygments_lexer": "ipython3",
   "version": "3.6.5"
  }
 },
 "nbformat": 4,
 "nbformat_minor": 2
}
