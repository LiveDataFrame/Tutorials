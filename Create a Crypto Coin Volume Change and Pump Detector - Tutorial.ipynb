{
 "cells": [
  {
   "cell_type": "markdown",
   "metadata": {},
   "source": [
    "# Create a Crypto Currency Volume Change (Pump Detector) Alerting Tool\n",
    "\n",
    "### Purpose of this tutorial\n",
    "To create a customizable alerting tool to monitor volume changes accross all bittrex coins using LiveDataFrame\n",
    "    \n",
    "### What you will be creating:\n",
    "An augmented trading tool that monitors volume changes accross an entire cryptocurrency exchange (bittrex) that:\n",
    "  - monitors all the coins in realtime\n",
    "  - has customizable alert criteria for volume change % and time (e.g \"Alert when a coin's volume changes 10% in 10 minutes\")\n",
    "  - Plays a sound when customizable alert criteria is fulfilled\n",
    "  - Displays a list of coins fulfilling the alert/volume criteria and a link to their chart.\n",
    "  - Updates this list, checks volume changes of coins, and alerts and prits the list automatically every 7 seconds\n",
    "    \n",
    "### Prerequistes:\n",
    "- Python3\n",
    "- `livedataframe` package: `pip3 install livedataframe`\n",
    "- public and secret keys from https://app.livedataframe.com/users/new (sign up is free)\n",
    "- a can-do attitude\n",
    "\n",
    "    \n",
    "    \n",
    "    \n"
   ]
  },
  {
   "cell_type": "markdown",
   "metadata": {},
   "source": [
    "# Import Required Packages\n",
    "\n",
    "- If you have not installed livedataframe please do so now: `pip3 install livedataframe`"
   ]
  },
  {
   "cell_type": "code",
   "execution_count": null,
   "metadata": {},
   "outputs": [],
   "source": [
    "from livedataframe import LiveExchange, ExchangeInfo # The core packages used by this tutorial\n",
    "import pandas as pd # import pandas for creating our new tool\n",
    "from IPython.display import Audio, clear_output # for playing our alert sound and our monitoring tool\n",
    "import time # for sleeping our tools loop"
   ]
  },
  {
   "cell_type": "markdown",
   "metadata": {},
   "source": [
    "# Initialize the LiveExchange class for the Bittrex Exchange"
   ]
  },
  {
   "cell_type": "markdown",
   "metadata": {},
   "source": [
    "The first thing we are going to do is get a list of active symbols on the bittrex exchange using the helper class `ExchangeInfo`"
   ]
  },
  {
   "cell_type": "code",
   "execution_count": null,
   "metadata": {},
   "outputs": [],
   "source": [
    "bittrex_symbols = ExchangeInfo.list_symbols_for('bittrex')"
   ]
  },
  {
   "cell_type": "markdown",
   "metadata": {},
   "source": [
    "Once we have our symbols, it is time to setup our live view of the Bittrex exchange using the class `LiveExchange`. Please replace `<YOUR_PUBLIC_KEY_HERE>` and `<YOUR_SECRET_KEY_HERE>` with your actual public and secret livedataframe keys (as strings). These should have been emailed to you when you signed up at https://app.livedataframe.com/users/new"
   ]
  },
  {
   "cell_type": "code",
   "execution_count": null,
   "metadata": {},
   "outputs": [],
   "source": [
    "live_bittrex = LiveExchange(\n",
    "    exchange = 'bittrex',\n",
    "    symbols = bittrex_symbols, \n",
    "    public_key = \"<YOUR_PUBLIC_KEY_HERE>\",\n",
    "    secret_key = \"<YOUR_SECRET_KEY_HERE>\",\n",
    "    lookback_period = '4h'\n",
    ")"
   ]
  },
  {
   "cell_type": "markdown",
   "metadata": {},
   "source": [
    "In the code snippet above we have initialized the `LiveExchange` class by telling it to 'watch' all symbols on the `Bittrex` exchange. The lookback_period of `4h` tells `LiveExchange` to pull the last 4 hours of historical data for each coin."
   ]
  },
  {
   "cell_type": "markdown",
   "metadata": {},
   "source": [
    "# Start the LiveExchange\n",
    "\n",
    "After we have initialized the live exchange `live_bittrex`, we must start it by calling `.start()` on the instance. Calling `.start()` loads the historical data, subscribes to websockets for each symbol, and then appends each new tick into its own dataframe giving you a live dataframe with a 4 hour window of data. Let's start the `LiveExchange` now\n",
    "\n"
   ]
  },
  {
   "cell_type": "code",
   "execution_count": null,
   "metadata": {},
   "outputs": [],
   "source": [
    "live_bittrex.start()"
   ]
  },
  {
   "cell_type": "markdown",
   "metadata": {},
   "source": [
    "When you first call `.start()` it can take a little while (anywhere from 10 seconds - 3 minutes depending on your internet speed) to load the initial historical data. Once that load is complete, you will have access to a dictionary of live data frames for every symbol on bittrex. To access one of these live dataframes use the `.symbols` attribute on the `live_bittrex` instance. For example, to access the live df for `BTC-ETH` we would specify `live_bittrex.symbols['BTC-ETH']`. This returns a dataframe that updates every 5 seconds. To see an update, wait 5 seconds and call it again.\n",
    "\n",
    "Let's go ahead and access the livedataframe for the `BTC-ETH` symbol\n",
    "\n"
   ]
  },
  {
   "cell_type": "markdown",
   "metadata": {},
   "source": [
    "# Access Your first Live DataFrame"
   ]
  },
  {
   "cell_type": "code",
   "execution_count": null,
   "metadata": {},
   "outputs": [],
   "source": [
    "live_bittrex.symbols['BTC-ETH'].tail()"
   ]
  },
  {
   "cell_type": "markdown",
   "metadata": {},
   "source": [
    "# Create Function for Building the Volume Change Monitor\n",
    "\n",
    "Let's actually start creating our augmented trading tool for monitoring volume changes. This tool will be a dataframe where the indexes will be the symbol names and the volume change over the specified interval will be the column. Let's go ahead and write a function do create this volume tool. This function will take the `LiveExchange` instance (`live_bittrex` in this case) and the specified time interval as inputs. "
   ]
  },
  {
   "cell_type": "code",
   "execution_count": null,
   "metadata": {},
   "outputs": [],
   "source": [
    "def create_volume_monitor_dataframe(live_exchange, time_interval):\n",
    "    output = {} # instantiate dictionary to hold our volume indicators\n",
    "    \n",
    "#     live_exchange = live_exchange\n",
    "    count = 0\n",
    "    for symbol, live_dataframe in live_exchange.symbols.items(): # Loop through every symbol and its corresponding live dataframe in the live_exchange instance\n",
    "        live_dataframe = live_dataframe.last(time_interval)        \n",
    "        \n",
    "        beginning_volume = live_dataframe['Volume'].iloc[0] # volume of asset at the specified time interval \"ago\" . E.g: if time_interval was '10m' this would be volume 10 minutes ago\n",
    "        current_volume = live_dataframe['Volume'].iloc[-1] # current volume of the asset\n",
    "        \n",
    "        percent_change = ((current_volume - beginning_volume) / beginning_volume) * 100# calculate volume percent change\n",
    "        \n",
    "        output[symbol] = percent_change # store percent change\n",
    "        \n",
    "        \n",
    "    volume_monitor_df = pd.DataFrame.from_dict(output, orient = 'index') # create volume monitor dataframe with indexes as symbols and column values as volume percent changes\n",
    "    volume_monitor_df.columns = [time_interval + \" vol % chg\"] # add column name to dataframe as the specifed interval\n",
    "    \n",
    "    return volume_monitor_df # return the volume monitor dataframe    "
   ]
  },
  {
   "cell_type": "markdown",
   "metadata": {},
   "source": [
    "# Run Function and Create Volume Monitor DataFrame\n",
    "Now that we have created a function that builds a new dataframe that adds a \"Vol % Change\" column for our specified interval accross all bittrex assets, let's see the result. Let's take a look at the volume change for each asset over the last 1 hour and sort our dataframe so the coins with the highest volume changes are at the top"
   ]
  },
  {
   "cell_type": "code",
   "execution_count": null,
   "metadata": {},
   "outputs": [],
   "source": [
    "volume_change_period = '1h' # look at the volume change over 1 hour\n",
    "create_volume_monitor_dataframe(live_bittrex, volume_change_period).sort_values(by = volume_change_period + \" vol % chg\", ascending = False)"
   ]
  },
  {
   "cell_type": "markdown",
   "metadata": {},
   "source": [
    "As we can see, we have just created a dataframe that shows us the percent changes over the last 1 hour for each asset and ranks them by greatest volume change -- pretty cool huh? Now, let's go ahead and implement the volume threshold."
   ]
  },
  {
   "cell_type": "markdown",
   "metadata": {},
   "source": [
    "# Add a Volume Threshold Filter\n",
    "Currently, our tool lists the volume changes for all of the coins on bittrex for a specified time period. There are a lot of coins on bittrex, 291 at the time of writing, so let's filter this list down to what we want. Let's make a function that will take our `volume_monitor_df` and a `volume_threshold` as parameters and then filter our dataframe down to symbols whose volume changes are greater than this threshold."
   ]
  },
  {
   "cell_type": "code",
   "execution_count": null,
   "metadata": {},
   "outputs": [],
   "source": [
    "def filter_volume_monitor_df_by_threshold(volume_monitor_df, volume_threshold):\n",
    "    symbols_above_threshold = volume_monitor_df.loc[volume_monitor_df[volume_monitor_df.columns[0]] > volume_threshold] # select the rows from volume monitor dataframe where the volume change is greater than threshold \n",
    "\n",
    "    return symbols_above_threshold"
   ]
  },
  {
   "cell_type": "markdown",
   "metadata": {},
   "source": [
    "# Use the Volume Threshold Filter\n",
    "Let's go ahead and use this filter function now and filter all symbols that have had a volume change of at LEAST 20% in the last 1 hour."
   ]
  },
  {
   "cell_type": "code",
   "execution_count": null,
   "metadata": {},
   "outputs": [],
   "source": [
    "volume_monitor_df = create_volume_monitor_dataframe(live_bittrex, '1h')\n",
    "filter_volume_monitor_df_by_threshold(volume_monitor_df, 20)\n"
   ]
  },
  {
   "cell_type": "markdown",
   "metadata": {},
   "source": [
    "# Monitor, and Alert on, Volume Changes in Realtime!\n",
    "At this point we could keep running these two functions together over and over again and record the changes. This would allow us to 'monitor' the changes, but it wouldn't exactly be automated. Let's put these two functions in a loop that will check our volume changes every 7 seconds and list the coins that have volume changes greater than our threshold over the specified interval. For fun, let's also add the ability to play a cash register sound if our tool discovers volume changes that meet our criteria. We can enable this sound by passing `alert_with_sound = True` into our function.\n"
   ]
  },
  {
   "cell_type": "markdown",
   "metadata": {},
   "source": [
    "### Create The Function"
   ]
  },
  {
   "cell_type": "code",
   "execution_count": null,
   "metadata": {},
   "outputs": [],
   "source": [
    "def monitor_volume_changes_and_alert_when_threshold_reached(live_exchange, volume_threshold, time_interval, alert_with_sound = False):\n",
    "   \n",
    "    while True:\n",
    "        volume_monitor_df = create_volume_monitor_dataframe(live_exchange, time_interval)\n",
    "        coins_above_threshold = filter_volume_monitor_df_by_threshold(volume_monitor_df, volume_threshold)\n",
    "\n",
    "        if len(coins_above_threshold) > 0: # check to see if there are any coins meeting criteria\n",
    "\n",
    "            if alert_with_sound: # play sound if alert_with_sound kw param is passed in\n",
    "                display(Audio(\"http://thecyberbuddy.com/sounds/CashRegister1.wav\", autoplay = True)) # play cash register sound\n",
    "\n",
    "            clear_output(wait = True) # clear jupyter notebook dataframe output\n",
    "            \n",
    "            coins_above_threshold = coins_above_threshold.applymap(\"{0:.2f}%\".format) #  format the % change ouput\n",
    "            display(coins_above_threshold) # redisplay jupyter notebook dataframe output with updated values\n",
    "\n",
    "        \n",
    "        else:\n",
    "            print('No coins found with volume changes greater than %s%% in the last %s' % (volume_threshold, time_interval))\n",
    "            \n",
    "        time.sleep(7) # wait 7 seconds before checking the volumes again\n",
    "\n"
   ]
  },
  {
   "cell_type": "markdown",
   "metadata": {},
   "source": [
    "### Run The Function\n",
    "Now that we have created our master function that will alert us to volume changes that satistfy our criteria. Lets implement it in a real-world scenario: finding coins that are being pumped.\n",
    "\n",
    "Let's set our `time_interval` to `20s` and our `volume_threshold` to `.10` (a tenth of a percent change). When we run this function we will be alerted if a coin has seen a significant increase in volume in the last 20 seconds. You may want to specify `alert_with_sound = False` after running it a few times to silence the noise. If you do not see any coins, try lowering your volume threshold or increasing your time interval. Happy Hunting! :)"
   ]
  },
  {
   "cell_type": "code",
   "execution_count": null,
   "metadata": {},
   "outputs": [],
   "source": [
    "monitor_volume_changes_and_alert_when_threshold_reached(\n",
    "    live_bittrex, \n",
    "    volume_threshold = .10, \n",
    "    time_interval = '20s', \n",
    "    alert_with_sound = False\n",
    ")"
   ]
  },
  {
   "cell_type": "markdown",
   "metadata": {},
   "source": [
    "# Next Steps\n",
    "- Try monitoring multiple time intervals at the same time and come up with an algorithm for alerting based on these changes:\n",
    "    - e.g \"alert when 10m interval is > 5% AND 1hr interval is >20%\"\n",
    "- Place orders instead of alerting\n",
    "- Turn the display into a heatmap or better visual output\n",
    "- Find correlations in the volume changes of different assets\n",
    "- Use jupyter/ipython widgets to create a GUI for using this tool (instead of typing in parameters)\n",
    "- Be sure to check out https://github.com/LiveDataFrame/Tutorials for more tutorials utilizing live dataframe"
   ]
  },
  {
   "cell_type": "code",
   "execution_count": null,
   "metadata": {},
   "outputs": [],
   "source": []
  }
 ],
 "metadata": {
  "kernelspec": {
   "display_name": "Python 3",
   "language": "python",
   "name": "python3"
  },
  "language_info": {
   "codemirror_mode": {
    "name": "ipython",
    "version": 3
   },
   "file_extension": ".py",
   "mimetype": "text/x-python",
   "name": "python",
   "nbconvert_exporter": "python",
   "pygments_lexer": "ipython3",
   "version": "3.6.5"
  }
 },
 "nbformat": 4,
 "nbformat_minor": 2
}
