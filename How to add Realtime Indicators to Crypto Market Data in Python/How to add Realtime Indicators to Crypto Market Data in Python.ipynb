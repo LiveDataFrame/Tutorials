{
 "cells": [
  {
   "cell_type": "markdown",
   "metadata": {},
   "source": [
    "## How to add Realtime Indicators to Crypto Market Data in Python\n",
    "\n",
    "This tutorial will show you how to add indicators to cryptocurrency market data in Python. Indicators are statistics of price/volume data used to measure current market conditions as well as to forecast trends. Basically, they generate trading signals and are a piece of the broader trading strategy that also involves risk and portfolio management. Common indicators are the [RSI](https://www.investopedia.com/terms/r/rsi.asp) and [MACD](https://www.investopedia.com/terms/m/macd.asp)\n",
    "\n",
    "**What we will accomplish:**\n",
    "1. Create our first indicator (SMA) and plot the results.\n",
    "2. Use LiveDataFrame to do this in realtime, across many coins\n",
    "3. Filter for new oppurtunities\n",
    "4. Create a Momentum Strategy using the RSI indicator"
   ]
  },
  {
   "cell_type": "markdown",
   "metadata": {},
   "source": [
    "## The Hello World of Indicators\n",
    "\n",
    "The Simple Moving Average (SMA) strategy is popular among technical analysts. The strategy is very simple:\n",
    "- If the <font color='red'>shorter SMA</font> is _higher_ in value than the <font color='green'>longer SMA</font>\n",
    "    - Go long \n",
    "- If the <font color='red'>shorter SMA</font> is _lower_ in value than the <font color='green'>longer SMA</font>\n",
    "    - Go Short (or Neutral)\n",
    "        \n",
    "**In picture form:** _Go Short on Mar 14, Go Long on April 16, Short again on May 14_\n",
    "<img src=\"sma_picture.png\">"
   ]
  },
  {
   "cell_type": "markdown",
   "metadata": {},
   "source": [
    "## Lets go ahead and create it for a single coin!\n",
    "\n",
    "For the first example, we are going to load a LiveDataFrame for `ETHUSD`. We will then add a short moving average and a long moving average indicator with the candles and then plot the results. It's free to [sign up](`app.livedataframe.com/users/new`) and you get your API keys immediately. Lets go ahead and start a LiveDataFrame."
   ]
  },
  {
   "cell_type": "code",
   "execution_count": null,
   "metadata": {},
   "outputs": [],
   "source": [
    "from livedataframe import LiveExchange # The live data\n",
    "\n",
    "livedf = LiveExchange(\n",
    "    public_key='<YOUR-PUBLIC-KEY>', # Enter your public key that was emailed\n",
    "    secret_key='<YOUR-PRIVATE-KEY>', # Enter your secret key that was emailed\n",
    "    exchange = 'bitfinex', # Enter your exchange\n",
    "    symbols = ['ETHUSD'], # Our symbol\n",
    "    lookback_period = '4H') # How much historical data we want\n",
    "\n",
    "# Start it up!\n",
    "livedf.start()"
   ]
  },
  {
   "cell_type": "markdown",
   "metadata": {},
   "source": [
    "We can easily view the coins that we have requested by using the `symbols` dictionary. Let's see what coins are loaded and live updating."
   ]
  },
  {
   "cell_type": "code",
   "execution_count": null,
   "metadata": {},
   "outputs": [],
   "source": [
    "livedf.symbols.keys()"
   ]
  },
  {
   "cell_type": "code",
   "execution_count": null,
   "metadata": {},
   "outputs": [],
   "source": [
    "# Lets look at the data for ETHUSD\n",
    "livedf.symbols['ETHUSD'].tail()"
   ]
  },
  {
   "cell_type": "markdown",
   "metadata": {},
   "source": [
    "Perfect, it looks like ETHUSD is ready!"
   ]
  },
  {
   "cell_type": "markdown",
   "metadata": {},
   "source": [
    "### Plotting the price"
   ]
  },
  {
   "cell_type": "code",
   "execution_count": null,
   "metadata": {},
   "outputs": [],
   "source": [
    "%matplotlib inline\n",
    "# %matplotlib inline is a \"magic function\" to make our lives easier. \n",
    "# You can see many more at: https://ipython.readthedocs.io/en/stable/interactive/magics.html\n",
    "\n",
    "import seaborn as sns; sns.set() # Pretty plots\n",
    "\n",
    "livedf.symbols['ETHUSD']['last_price'].plot()"
   ]
  },
  {
   "cell_type": "markdown",
   "metadata": {},
   "source": [
    "### Plotting the price in realtime\n",
    "\n",
    "If we use a while loop to plot the data after every new update (5 seconds) then we will be able to see the plot in real time!\n",
    "\n",
    "We can also specify that we are only interested in more recent data. Lets write the code that will display a live plot of the last 5 minutes of data."
   ]
  },
  {
   "cell_type": "code",
   "execution_count": null,
   "metadata": {},
   "outputs": [],
   "source": [
    "%matplotlib inline\n",
    "import time # For adding a 5 second delay in between getting new price updates\n",
    "import matplotlib.pyplot as plt # Import matplotlib\n",
    "import seaborn as sns; sns.set() # Pretty charts (Optional)\n",
    "from IPython.display import display, clear_output # So that we can refresh our Jupyter cell output\n",
    "\n",
    "while True:\n",
    "    \n",
    "    # We are only interested in the last 5 minutes for viewing the plot\n",
    "    last_hour = livedf.symbols['ETHUSD']['last_price'].last('5T')\n",
    "    \n",
    "    # Generate our plot of last_price data for ETHUSD\n",
    "    # As you can see, we can also give plots a title and choose sizes to our liking.\n",
    "    last_hour.plot(figsize=(15,6), title='ETHUSD - LAST PRICE')\n",
    "    \n",
    "    # Wait until there is a new plot to show before clearing the old one\n",
    "    clear_output(wait=True)\n",
    "    # Show the new plot\n",
    "    plt.show()\n",
    "    \n",
    "    # Wait 5 seconds\n",
    "    time.sleep(5)"
   ]
  },
  {
   "cell_type": "markdown",
   "metadata": {},
   "source": [
    "### Add our SMA Indicators\n",
    "\n",
    "The _average_ price is taken inside of a window containing some price points. Then the window _moves_ to the next few. Then the window _moves_ to the next few. We are _smoothing_ out the price by taking the moving average. The larger the window, the smoother and slower the average will move.\n",
    "\n",
    "Pandas has a great function that will automatically do this calculation. Use the rolling (_moving_) method to go through the price points and apply the mean (_average_)."
   ]
  },
  {
   "cell_type": "code",
   "execution_count": null,
   "metadata": {},
   "outputs": [],
   "source": [
    "# Lets make a copy of our ETHUSD prices, and resample it to have a one minute bar size. \n",
    "ethusd_df = livedf.symbols['ETHUSD'][['last_price']].resample('T', label='right').last().ffill()\n",
    "\n",
    "# Create new columns on our ETHUSD prices dataframe: \n",
    "\n",
    "# We want our short sma window to be 5 bars long\n",
    "ethusd_df['short_sma'] = ethusd_df['last_price'].rolling(5).mean()\n",
    "# We want our long sma to be 20 bars long\n",
    "ethusd_df['long_sma'] = ethusd_df['last_price'].rolling(20).mean()\n",
    "\n",
    "# Lets take a look\n",
    "ethusd_df.head(5)"
   ]
  },
  {
   "cell_type": "markdown",
   "metadata": {},
   "source": [
    "If we look at the beginning of our prices using the _head_ method, we can see a few `NaN` rows. We should expect these when calculating indicators. For our short sma window, we should expect 5 `NaN` rows. How do we know this? Because the indicator needs at LEAST 5 previous price points to calculate the average. For the same reason, the long window will have 20 `NaN` rows. Don't worry, we can easily get rid of them."
   ]
  },
  {
   "cell_type": "code",
   "execution_count": null,
   "metadata": {},
   "outputs": [],
   "source": [
    "# ByeBye NaN's \n",
    "ethusd_df = ethusd_df.dropna()\n",
    "\n",
    "# Lets take a look\n",
    "ethusd_df.head(5)"
   ]
  },
  {
   "cell_type": "markdown",
   "metadata": {},
   "source": [
    "### Plot our Indicators\n",
    "\n",
    "Now that we have our indicators calculated, lets plot them."
   ]
  },
  {
   "cell_type": "code",
   "execution_count": null,
   "metadata": {},
   "outputs": [],
   "source": [
    "ethusd_df[['last_price', 'short_sma', 'long_sma']].plot(figsize=(15,6), title='ETHUSD - CLOSING PRICE')"
   ]
  },
  {
   "cell_type": "markdown",
   "metadata": {},
   "source": [
    "### Plotting the indicators in realtime\n",
    "\n",
    "Static plots are pretty boring right? Lets watch the indicators in realtime so we can spot the oppurtunities to go long!"
   ]
  },
  {
   "cell_type": "code",
   "execution_count": null,
   "metadata": {},
   "outputs": [],
   "source": [
    "%matplotlib inline\n",
    "import time \n",
    "import matplotlib.pyplot as plt \n",
    "import seaborn as sns; sns.set()\n",
    "from IPython.display import display, clear_output \n",
    "\n",
    "while True:\n",
    "    \n",
    "    # Copy the resampled ETHUSD dataframe\n",
    "    ethusd_df = livedf.symbols['ETHUSD'][['last_price']].resample('T', label='right').last().ffill()\n",
    "    \n",
    "    # Like before, we want our short sma window to be 5 periods long & long sma window 20 periods long\n",
    "    ethusd_df['short_sma'] = ethusd_df['last_price'].rolling(5).mean()\n",
    "    ethusd_df['long_sma'] = ethusd_df['last_price'].rolling(20).mean()\n",
    "    \n",
    "    # Generate our plot for ETHUSD. \n",
    "    # We want the 'last_price','short_sma', and 'long_sma' columns to be plotted\n",
    "    # As you can see, we can also give plots a title and choose sizes to our liking.\n",
    "    ethusd_df[['last_price', 'short_sma', 'long_sma']].last('H').plot(figsize=(15,6), title='ETHUSD - LAST PRICE')\n",
    "    \n",
    "    # Wait until there is a new plot to show before clearing the old one\n",
    "    clear_output(wait=True)\n",
    "    # Show the new plot\n",
    "    plt.show()\n",
    "    \n",
    "    # Wait 5 seconds\n",
    "    time.sleep(5)"
   ]
  },
  {
   "cell_type": "markdown",
   "metadata": {},
   "source": [
    "## Use LiveDataFrame to do this in realtime, across many coins\n",
    "\n",
    "Say we are interested in looking for oppurtunities to buy a coin. These oppurtunities exist when the short SMA is greater than the long SMA.\n",
    "\n",
    "So far we have focused on one coin, ETHUSD. We can use LiveDataFrame to monitor **every coin** on an exchange and alert us when a new oppurtunity comes.\n",
    "\n",
    "Lets stop our LiveDataFrame from earlier so we can grab more coins that just ETHUSD."
   ]
  },
  {
   "cell_type": "code",
   "execution_count": null,
   "metadata": {},
   "outputs": [],
   "source": [
    "livedf.stop()"
   ]
  },
  {
   "cell_type": "markdown",
   "metadata": {},
   "source": [
    "### Looking for oppurtunities on Bitfinex\n",
    "\n",
    "We will use one minute bar sizes. Our short SMA will be 5 periods and long SMA 20 periods. Therefore, we need at least (5 min x 5 periods) 25 minutes of data for our short SMA, and (5 min x 20 periods) 100 minutes of data for our long SMA.\n",
    "\n",
    "Bitfinex has a lot of coins. For the time being, lets just look at the coins that trade with USD. "
   ]
  },
  {
   "cell_type": "code",
   "execution_count": null,
   "metadata": {},
   "outputs": [],
   "source": [
    "from livedataframe import ExchangeInfo # Information about what exchanges and coins are available.\n",
    "from livedataframe import LiveExchange # The live data\n",
    "\n",
    "# Grab every coin available on Bitfinex\n",
    "all_symbols_bitfinex = ExchangeInfo.list_symbols_for('bitfinex')\n",
    "\n",
    "# Since we are only interested in USD pairs, we will filter our list down to those.\n",
    "usd_symbols = [symbol for symbol in all_symbols_bitfinex if 'USD' in symbol]\n",
    "\n",
    "livedf = LiveExchange(\n",
    "    public_key='<YOUR-PUBLIC-KEY>', # Enter your public key that was emailed\n",
    "    secret_key='<YOUR-PRIVATE-KEY>', # Enter your secret key that was emailed\n",
    "    exchange = 'bitfinex', # Enter your exchange\n",
    "    symbols = usd_symbols, # Our USD symbols\n",
    "    lookback_period = '105M') # We need 100min of data. We'll grab 105 Minutes to be safe.\n",
    "\n",
    "# Start it up!\n",
    "livedf.start()"
   ]
  },
  {
   "cell_type": "code",
   "execution_count": null,
   "metadata": {},
   "outputs": [],
   "source": [
    "# Lets see all the coins we have access too..\n",
    "print(livedf.symbols.keys())\n",
    "print(\"\\nWe have {} symbols to monitor that trade in USD\".format(len(livedf.symbols.keys())))"
   ]
  },
  {
   "cell_type": "markdown",
   "metadata": {},
   "source": [
    "### Add the SMA indicators to every coin\n",
    "\n",
    "Just like before, we will use a while loop to get the latest data for our coins as it arrives. This time, we will go through every single coin and apply our indicators. I have fairly thick glasses, but even I would have a hard time monitoring 70 different charts. For our strategy, we just need to know if the short SMA is greater than the long SMA. We don't really need the charts. We just need what the values are, _right now_.\n",
    "\n",
    "First, we will add the indicators, and store the results. Then we will create a view for the results by creating a new dataframe. Finally, we will make sure it updates in real time."
   ]
  },
  {
   "cell_type": "code",
   "execution_count": null,
   "metadata": {},
   "outputs": [],
   "source": [
    "%matplotlib inline\n",
    "import time \n",
    "import matplotlib.pyplot as plt \n",
    "import seaborn as sns; sns.set()\n",
    "from IPython.display import display, clear_output \n",
    "import pandas as pd\n",
    "\n",
    "while True:\n",
    "    \n",
    "    # Create a DataFrame to hold our results\n",
    "    view_df = pd.DataFrame()\n",
    "    \n",
    "    # For every symbol we are monitoring, add our indicators.\n",
    "    for symbol, ldf in livedf.symbols.items():\n",
    "         \n",
    "        # Copy the resampled dataframe\n",
    "        temp_ldf = ldf[['last_price']].resample('T', label='right').last().ffill()\n",
    "\n",
    "        # Short sma window 5 periods & long sma window 20 periods\n",
    "        temp_ldf['short_sma'] = temp_ldf['last_price'].rolling(5).mean()\n",
    "        temp_ldf['long_sma'] = temp_ldf['last_price'].rolling(20).mean()\n",
    "        \n",
    "        # If short sma is greater than long sma, then we have a buy signal!\n",
    "        # Use iloc[-1] to get the most recent value\n",
    "        if temp_ldf['short_sma'].iloc[-1] > temp_ldf['long_sma'].iloc[-1]:\n",
    "            \n",
    "            temp_ldf['buy_signal'] = True\n",
    "            \n",
    "        else:\n",
    "            \n",
    "            temp_ldf['buy_signal'] = False\n",
    "            \n",
    "        # We only need the MOST RECENT price & sma values to create our view\n",
    "        temp_ldf = temp_ldf.tail(1)\n",
    "        \n",
    "        # We will index it by name for convenience.\n",
    "        temp_ldf.index = [symbol]\n",
    "        \n",
    "        # Then, we store this result in a dataframe to view later. \n",
    "        view_df = view_df.append(temp_ldf)\n",
    "    \n",
    "    # View the result\n",
    "    clear_output(wait=True)\n",
    "    display(view_df)\n",
    "    \n",
    "    # Wait 5 seconds, then do it all over again\n",
    "    time.sleep(5)"
   ]
  },
  {
   "cell_type": "markdown",
   "metadata": {},
   "source": [
    "### Making it Better\n",
    "\n",
    "There is a lot of information still being displayed that we don't care about. We only want to see the buy oppurtunities, and ideally, we want to know how _fresh_ this oppurtunity is. We can determine how fresh our code is by going back in time, one bar at a time and finding out when the short sma FIRST crossed over the long sma. \n",
    "\n",
    "To make this view better, we will:\n",
    "- Determine how fresh the oppurtunity is\n",
    "- Filter out all coins that don't fit our criteria\n",
    "\n",
    "Let's rework our code a little bit."
   ]
  },
  {
   "cell_type": "code",
   "execution_count": null,
   "metadata": {},
   "outputs": [],
   "source": [
    "%matplotlib inline\n",
    "import time \n",
    "import matplotlib.pyplot as plt \n",
    "import seaborn as sns; sns.set()\n",
    "from IPython.display import display, clear_output \n",
    "import pandas as pd\n",
    "\n",
    "while True:\n",
    "\n",
    "    view_df = pd.DataFrame()\n",
    "    \n",
    "    for symbol, ldf in livedf.symbols.items():\n",
    "         \n",
    "        temp_ldf = ldf[['last_price']].resample('T', label='right').last()\n",
    "\n",
    "        temp_ldf['short_sma'] = temp_ldf['last_price'].rolling(5).mean()\n",
    "        temp_ldf['long_sma'] = temp_ldf['last_price'].rolling(20).mean()\n",
    "        \n",
    "        # This is just a faster way of checking every row if short_sma is greater than long_sma\n",
    "        temp_ldf['buy_signal'] = temp_ldf['short_sma'] > temp_ldf['long_sma']\n",
    "            \n",
    "        # This time, if our signal is a buy...\n",
    "        if temp_ldf['buy_signal'].iloc[-1] == True:\n",
    "            \n",
    "            # Locate all the times the signal was NOT a buy..\n",
    "            # Grab the last time that this was not a buy signal\n",
    "            last_neutral_time = temp_ldf.loc[temp_ldf['buy_signal'] == False].index[-1]\n",
    "            \n",
    "            # Now grab the most recent time\n",
    "            current_time = temp_ldf.index[-1]\n",
    "            \n",
    "            # How long has this buy signal existed?\n",
    "            temp_ldf['freshness'] = str(current_time - last_neutral_time)\n",
    "            \n",
    "            # We've already calculated our indicators, signal, and freshness. \n",
    "            # Now we do the same as before by storing the result and creating a view\n",
    "            temp_ldf = temp_ldf.tail(1)\n",
    "            temp_ldf.index = [symbol]\n",
    "            view_df = view_df.append(temp_ldf)\n",
    "            \n",
    "    \n",
    "    clear_output(wait=True)\n",
    "    display(view_df.sort_values('freshness'))\n",
    "    \n",
    "    time.sleep(5)"
   ]
  },
  {
   "cell_type": "markdown",
   "metadata": {},
   "source": [
    "### BONUS: Get to the exchange as soon as you see an oppurtunity!\n",
    "\n",
    "We can add a link our strategy view so that you can get to the oppurtunity as SOON as you see it!"
   ]
  },
  {
   "cell_type": "code",
   "execution_count": null,
   "metadata": {},
   "outputs": [],
   "source": [
    "# create a function to format our link so it is clickable\n",
    "def make_clickable(symbol):\n",
    "    \n",
    "    first_part, second_part = symbol[:3], symbol[3:]\n",
    "    url = 'https://www.bitfinex.com/t/'+first_part+':'+second_part\n",
    "\n",
    "    return '<a target=\"_blank\" href=\"{}\">{}</a>'.format(url, symbol)"
   ]
  },
  {
   "cell_type": "code",
   "execution_count": null,
   "metadata": {},
   "outputs": [],
   "source": [
    "%matplotlib inline\n",
    "import time \n",
    "import matplotlib.pyplot as plt \n",
    "import seaborn as sns; sns.set()\n",
    "from IPython.display import display, clear_output \n",
    "import pandas as pd\n",
    "\n",
    "while True:\n",
    "\n",
    "    view_df = pd.DataFrame()\n",
    "    \n",
    "    for symbol, ldf in livedf.symbols.items():\n",
    "         \n",
    "        temp_ldf = ldf[['last_price']].resample('T', label='right').last()\n",
    "\n",
    "        temp_ldf['short_sma'] = temp_ldf['last_price'].rolling(5).mean()\n",
    "        temp_ldf['long_sma'] = temp_ldf['last_price'].rolling(20).mean()\n",
    "        \n",
    "        temp_ldf['buy_signal'] = temp_ldf['short_sma'] > temp_ldf['long_sma']\n",
    "            \n",
    "        if temp_ldf['buy_signal'].iloc[-1] == True:\n",
    "            \n",
    "            last_neutral_time = temp_ldf.loc[temp_ldf['buy_signal'] == False].index[-1]\n",
    "            current_time = temp_ldf.index[-1]\n",
    "            \n",
    "            temp_ldf['freshness'] = str(current_time - last_neutral_time)\n",
    "            \n",
    "            # Store result as before\n",
    "            temp_ldf = temp_ldf.tail(1)\n",
    "            temp_ldf.index = [symbol]\n",
    "            \n",
    "            # Create a column for the link\n",
    "            temp_ldf['link'] = symbol\n",
    "            \n",
    "            view_df = view_df.append(temp_ldf)\n",
    "            \n",
    "    \n",
    "    clear_output(wait=True)\n",
    "    # Prepare a special view\n",
    "    view_df = view_df.sort_values('freshness')\n",
    "    display(view_df.style.format(make_clickable, subset=['link']))\n",
    "    \n",
    "    time.sleep(5)"
   ]
  },
  {
   "cell_type": "markdown",
   "metadata": {},
   "source": [
    "## Next Steps\n",
    "\n",
    "Congratulations! you've just learned how add realtime indicators to monitor many symbols across an exchange. \n",
    "\n",
    "Here are some things you can try next:\n",
    "- Convert this script into a function that you can call with parameters:\n",
    "    - To change the bar size\n",
    "    - To add filtering for how fresh a new signal should be\n",
    "    - To change the length of short sma and long sma\n",
    "- Explore other indicators and strategies.\n",
    "- Check out the [stockstats](https://github.com/jealous/stockstats) python library for a huge range of free indicators.\n",
    "- Make your own indicator from the data provided by LiveDataFrame.\n",
    "\n",
    "If you have questions, feel free to reach out to `support@livedataframe.com`, and we'll be happy to help you out! "
   ]
  },
  {
   "cell_type": "markdown",
   "metadata": {},
   "source": [
    "_DISCLAIMER: The above references an opinion and is for information purposes only. It is not intended to be investment advice. Seek a duly licensed professional for investment advice._"
   ]
  }
 ],
 "metadata": {
  "kernelspec": {
   "display_name": "Python 3",
   "language": "python",
   "name": "python3"
  },
  "language_info": {
   "codemirror_mode": {
    "name": "ipython",
    "version": 3
   },
   "file_extension": ".py",
   "mimetype": "text/x-python",
   "name": "python",
   "nbconvert_exporter": "python",
   "pygments_lexer": "ipython3",
   "version": "3.6.3"
  }
 },
 "nbformat": 4,
 "nbformat_minor": 2
}
